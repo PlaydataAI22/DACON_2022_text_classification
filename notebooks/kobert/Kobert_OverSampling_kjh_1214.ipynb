{
 "cells": [
  {
   "cell_type": "code",
   "execution_count": 6,
   "metadata": {},
   "outputs": [],
   "source": [
    "import pandas as pd\n",
    "import matplotlib.pyplot as plt\n",
    "import numpy as np\n",
    "import imblearn\n",
    "from imblearn.over_sampling import RandomOverSampler\n",
    "from sklearn.preprocessing import LabelEncoder\n",
    "from collections import Counter"
   ]
  },
  {
   "cell_type": "code",
   "execution_count": 7,
   "metadata": {},
   "outputs": [],
   "source": [
    "label_dict = {\"유형\":{\"사실형\":0, \"추론형\":1, \"대화형\":2, \"예측형\":3}, \"극성\":{\"긍정\":0, \"부정\":1, \"미정\":2}, \"시제\":{\"과거\":0, \"현재\":1, \"미래\":2}, \"확실성\":{\"확실\":0, \"불확실\":1}}"
   ]
  },
  {
   "cell_type": "code",
   "execution_count": 8,
   "metadata": {},
   "outputs": [],
   "source": [
    "df = pd.read_csv('dataset/train.csv')"
   ]
  },
  {
   "cell_type": "code",
   "execution_count": 9,
   "metadata": {},
   "outputs": [
    {
     "data": {
      "text/html": [
       "<div>\n",
       "<style scoped>\n",
       "    .dataframe tbody tr th:only-of-type {\n",
       "        vertical-align: middle;\n",
       "    }\n",
       "\n",
       "    .dataframe tbody tr th {\n",
       "        vertical-align: top;\n",
       "    }\n",
       "\n",
       "    .dataframe thead th {\n",
       "        text-align: right;\n",
       "    }\n",
       "</style>\n",
       "<table border=\"1\" class=\"dataframe\">\n",
       "  <thead>\n",
       "    <tr style=\"text-align: right;\">\n",
       "      <th></th>\n",
       "      <th>ID</th>\n",
       "      <th>문장</th>\n",
       "      <th>유형</th>\n",
       "      <th>극성</th>\n",
       "      <th>시제</th>\n",
       "      <th>확실성</th>\n",
       "      <th>label</th>\n",
       "    </tr>\n",
       "  </thead>\n",
       "  <tbody>\n",
       "    <tr>\n",
       "      <th>0</th>\n",
       "      <td>TRAIN_00000</td>\n",
       "      <td>0.75%포인트 금리 인상은 1994년 이후 28년 만에 처음이다.</td>\n",
       "      <td>0</td>\n",
       "      <td>0</td>\n",
       "      <td>1</td>\n",
       "      <td>0</td>\n",
       "      <td>사실형-긍정-현재-확실</td>\n",
       "    </tr>\n",
       "    <tr>\n",
       "      <th>1</th>\n",
       "      <td>TRAIN_00001</td>\n",
       "      <td>이어 ＂앞으로 전문가들과 함께 4주 단위로 상황을 재평가할 예정＂이라며 ＂그 이전이...</td>\n",
       "      <td>0</td>\n",
       "      <td>0</td>\n",
       "      <td>0</td>\n",
       "      <td>0</td>\n",
       "      <td>사실형-긍정-과거-확실</td>\n",
       "    </tr>\n",
       "    <tr>\n",
       "      <th>2</th>\n",
       "      <td>TRAIN_00002</td>\n",
       "      <td>정부가 고유가 대응을 위해 7월부터 연말까지 유류세 인하 폭을 30%에서 37%까지...</td>\n",
       "      <td>0</td>\n",
       "      <td>0</td>\n",
       "      <td>2</td>\n",
       "      <td>0</td>\n",
       "      <td>사실형-긍정-미래-확실</td>\n",
       "    </tr>\n",
       "    <tr>\n",
       "      <th>3</th>\n",
       "      <td>TRAIN_00003</td>\n",
       "      <td>서울시는 올해 3월 즉시 견인 유예시간 60분을 제공하겠다고 밝혔지만, 하루 만에 ...</td>\n",
       "      <td>0</td>\n",
       "      <td>0</td>\n",
       "      <td>0</td>\n",
       "      <td>0</td>\n",
       "      <td>사실형-긍정-과거-확실</td>\n",
       "    </tr>\n",
       "    <tr>\n",
       "      <th>4</th>\n",
       "      <td>TRAIN_00004</td>\n",
       "      <td>익사한 자는 사다리에 태워 거꾸로 놓고 소금으로 코를 막아 가득 채운다.</td>\n",
       "      <td>0</td>\n",
       "      <td>0</td>\n",
       "      <td>1</td>\n",
       "      <td>0</td>\n",
       "      <td>사실형-긍정-현재-확실</td>\n",
       "    </tr>\n",
       "    <tr>\n",
       "      <th>...</th>\n",
       "      <td>...</td>\n",
       "      <td>...</td>\n",
       "      <td>...</td>\n",
       "      <td>...</td>\n",
       "      <td>...</td>\n",
       "      <td>...</td>\n",
       "      <td>...</td>\n",
       "    </tr>\n",
       "    <tr>\n",
       "      <th>16536</th>\n",
       "      <td>TRAIN_16536</td>\n",
       "      <td>＇신동덤＇은 ＇신비한 동물사전＇과 ＇해리 포터＇ 시리즈를 잇는 마법 어드벤처물로, ...</td>\n",
       "      <td>0</td>\n",
       "      <td>0</td>\n",
       "      <td>0</td>\n",
       "      <td>0</td>\n",
       "      <td>사실형-긍정-과거-확실</td>\n",
       "    </tr>\n",
       "    <tr>\n",
       "      <th>16537</th>\n",
       "      <td>TRAIN_16537</td>\n",
       "      <td>수족냉증은 어릴 때부터 심했으며 관절은 어디 한 곳이 아니고 목, 어깨, 팔꿈치, ...</td>\n",
       "      <td>0</td>\n",
       "      <td>0</td>\n",
       "      <td>0</td>\n",
       "      <td>0</td>\n",
       "      <td>사실형-긍정-과거-확실</td>\n",
       "    </tr>\n",
       "    <tr>\n",
       "      <th>16538</th>\n",
       "      <td>TRAIN_16538</td>\n",
       "      <td>김금희 소설가는 ＂계약서 조정이 그리 어려운가 작가를 격려한다면서 그런 문구 하나 ...</td>\n",
       "      <td>0</td>\n",
       "      <td>0</td>\n",
       "      <td>0</td>\n",
       "      <td>0</td>\n",
       "      <td>사실형-긍정-과거-확실</td>\n",
       "    </tr>\n",
       "    <tr>\n",
       "      <th>16539</th>\n",
       "      <td>TRAIN_16539</td>\n",
       "      <td>1만명이 넘는 방문자수를 기록한 이번 전시회는 총 77개 작품을 넥슨 사옥을 그대로...</td>\n",
       "      <td>0</td>\n",
       "      <td>0</td>\n",
       "      <td>0</td>\n",
       "      <td>1</td>\n",
       "      <td>사실형-긍정-과거-불확실</td>\n",
       "    </tr>\n",
       "    <tr>\n",
       "      <th>16540</th>\n",
       "      <td>TRAIN_16540</td>\n",
       "      <td>《목민심서》의 내용이다.</td>\n",
       "      <td>0</td>\n",
       "      <td>0</td>\n",
       "      <td>1</td>\n",
       "      <td>0</td>\n",
       "      <td>사실형-긍정-현재-확실</td>\n",
       "    </tr>\n",
       "  </tbody>\n",
       "</table>\n",
       "<p>16541 rows × 7 columns</p>\n",
       "</div>"
      ],
      "text/plain": [
       "                ID                                                 문장 유형 극성  \\\n",
       "0      TRAIN_00000              0.75%포인트 금리 인상은 1994년 이후 28년 만에 처음이다.  0  0   \n",
       "1      TRAIN_00001  이어 ＂앞으로 전문가들과 함께 4주 단위로 상황을 재평가할 예정＂이라며 ＂그 이전이...  0  0   \n",
       "2      TRAIN_00002  정부가 고유가 대응을 위해 7월부터 연말까지 유류세 인하 폭을 30%에서 37%까지...  0  0   \n",
       "3      TRAIN_00003  서울시는 올해 3월 즉시 견인 유예시간 60분을 제공하겠다고 밝혔지만, 하루 만에 ...  0  0   \n",
       "4      TRAIN_00004           익사한 자는 사다리에 태워 거꾸로 놓고 소금으로 코를 막아 가득 채운다.  0  0   \n",
       "...            ...                                                ... .. ..   \n",
       "16536  TRAIN_16536  ＇신동덤＇은 ＇신비한 동물사전＇과 ＇해리 포터＇ 시리즈를 잇는 마법 어드벤처물로, ...  0  0   \n",
       "16537  TRAIN_16537  수족냉증은 어릴 때부터 심했으며 관절은 어디 한 곳이 아니고 목, 어깨, 팔꿈치, ...  0  0   \n",
       "16538  TRAIN_16538  김금희 소설가는 ＂계약서 조정이 그리 어려운가 작가를 격려한다면서 그런 문구 하나 ...  0  0   \n",
       "16539  TRAIN_16539  1만명이 넘는 방문자수를 기록한 이번 전시회는 총 77개 작품을 넥슨 사옥을 그대로...  0  0   \n",
       "16540  TRAIN_16540                                      《목민심서》의 내용이다.  0  0   \n",
       "\n",
       "      시제 확실성          label  \n",
       "0      1   0   사실형-긍정-현재-확실  \n",
       "1      0   0   사실형-긍정-과거-확실  \n",
       "2      2   0   사실형-긍정-미래-확실  \n",
       "3      0   0   사실형-긍정-과거-확실  \n",
       "4      1   0   사실형-긍정-현재-확실  \n",
       "...   ..  ..            ...  \n",
       "16536  0   0   사실형-긍정-과거-확실  \n",
       "16537  0   0   사실형-긍정-과거-확실  \n",
       "16538  0   0   사실형-긍정-과거-확실  \n",
       "16539  0   1  사실형-긍정-과거-불확실  \n",
       "16540  1   0   사실형-긍정-현재-확실  \n",
       "\n",
       "[16541 rows x 7 columns]"
      ]
     },
     "execution_count": 9,
     "metadata": {},
     "output_type": "execute_result"
    }
   ],
   "source": [
    "for label in label_dict:\n",
    "  for i in range(len(df)):\n",
    "    df[label].iloc[i] = label_dict[label][df[label].iloc[i]]\n",
    "df"
   ]
  },
  {
   "cell_type": "code",
   "execution_count": 10,
   "metadata": {},
   "outputs": [
    {
     "name": "stdout",
     "output_type": "stream",
     "text": [
      "0    13558\n",
      "1     2151\n",
      "2      575\n",
      "3      257\n",
      "Name: 유형, dtype: int64\n",
      "0    15793\n",
      "1      565\n",
      "2      183\n",
      "Name: 극성, dtype: int64\n",
      "0    8032\n",
      "1    6866\n",
      "2    1643\n",
      "Name: 시제, dtype: int64\n",
      "0    15192\n",
      "1     1349\n",
      "Name: 확실성, dtype: int64\n"
     ]
    }
   ],
   "source": [
    "print(df[\"유형\"].value_counts(), df[\"극성\"].value_counts(), df[\"시제\"].value_counts(), df[\"확실성\"].value_counts(), sep=\"\\n\")"
   ]
  },
  {
   "cell_type": "code",
   "execution_count": 11,
   "metadata": {},
   "outputs": [
    {
     "data": {
      "text/html": [
       "<div>\n",
       "<style scoped>\n",
       "    .dataframe tbody tr th:only-of-type {\n",
       "        vertical-align: middle;\n",
       "    }\n",
       "\n",
       "    .dataframe tbody tr th {\n",
       "        vertical-align: top;\n",
       "    }\n",
       "\n",
       "    .dataframe thead th {\n",
       "        text-align: right;\n",
       "    }\n",
       "</style>\n",
       "<table border=\"1\" class=\"dataframe\">\n",
       "  <thead>\n",
       "    <tr style=\"text-align: right;\">\n",
       "      <th></th>\n",
       "      <th>ID</th>\n",
       "      <th>문장</th>\n",
       "      <th>유형</th>\n",
       "      <th>극성</th>\n",
       "      <th>시제</th>\n",
       "      <th>확실성</th>\n",
       "      <th>label</th>\n",
       "    </tr>\n",
       "  </thead>\n",
       "  <tbody>\n",
       "    <tr>\n",
       "      <th>45</th>\n",
       "      <td>TRAIN_00045</td>\n",
       "      <td>＇월드 오브 드래곤네스트＇는 오는 8일 말레이시아, 싱가포르, 인도네시아, 필리핀,...</td>\n",
       "      <td>0</td>\n",
       "      <td>2</td>\n",
       "      <td>1</td>\n",
       "      <td>0</td>\n",
       "      <td>사실형-미정-현재-확실</td>\n",
       "    </tr>\n",
       "    <tr>\n",
       "      <th>147</th>\n",
       "      <td>TRAIN_00147</td>\n",
       "      <td>해상에서는 서해상을 중심으로 돌풍과 함께 천둥·번개가 치는 곳이 있겠다.</td>\n",
       "      <td>3</td>\n",
       "      <td>2</td>\n",
       "      <td>2</td>\n",
       "      <td>1</td>\n",
       "      <td>예측형-미정-미래-불확실</td>\n",
       "    </tr>\n",
       "    <tr>\n",
       "      <th>244</th>\n",
       "      <td>TRAIN_00244</td>\n",
       "      <td>LAH는 에어버스헬리콥터의 H155B1 플랫폼을 기반으로 최신 항전장비와 무장사격통...</td>\n",
       "      <td>0</td>\n",
       "      <td>2</td>\n",
       "      <td>2</td>\n",
       "      <td>0</td>\n",
       "      <td>사실형-미정-미래-확실</td>\n",
       "    </tr>\n",
       "    <tr>\n",
       "      <th>431</th>\n",
       "      <td>TRAIN_00431</td>\n",
       "      <td>＂확진 임신부가 태아나 신생아에게 코로나를 전염시킬 수 있나?＂</td>\n",
       "      <td>2</td>\n",
       "      <td>2</td>\n",
       "      <td>2</td>\n",
       "      <td>1</td>\n",
       "      <td>대화형-미정-미래-불확실</td>\n",
       "    </tr>\n",
       "    <tr>\n",
       "      <th>436</th>\n",
       "      <td>TRAIN_00436</td>\n",
       "      <td>최대 8인의 전투부대를 구성해 지옥성물함 공격대 우두머리에 도전할 수 있으며 150...</td>\n",
       "      <td>1</td>\n",
       "      <td>2</td>\n",
       "      <td>2</td>\n",
       "      <td>1</td>\n",
       "      <td>추론형-미정-미래-불확실</td>\n",
       "    </tr>\n",
       "    <tr>\n",
       "      <th>...</th>\n",
       "      <td>...</td>\n",
       "      <td>...</td>\n",
       "      <td>...</td>\n",
       "      <td>...</td>\n",
       "      <td>...</td>\n",
       "      <td>...</td>\n",
       "      <td>...</td>\n",
       "    </tr>\n",
       "    <tr>\n",
       "      <th>16279</th>\n",
       "      <td>TRAIN_16279</td>\n",
       "      <td>반도체 업체 넥스트칩이 내달 1일 코스닥 상장을 위해 16일부터 이틀 간 기관투자자...</td>\n",
       "      <td>0</td>\n",
       "      <td>2</td>\n",
       "      <td>2</td>\n",
       "      <td>0</td>\n",
       "      <td>사실형-미정-미래-확실</td>\n",
       "    </tr>\n",
       "    <tr>\n",
       "      <th>16294</th>\n",
       "      <td>TRAIN_16294</td>\n",
       "      <td>핵무기로 세상을 위협하는 북한이 가장 두려워하는 것이 뭘까?</td>\n",
       "      <td>2</td>\n",
       "      <td>2</td>\n",
       "      <td>1</td>\n",
       "      <td>1</td>\n",
       "      <td>대화형-미정-현재-불확실</td>\n",
       "    </tr>\n",
       "    <tr>\n",
       "      <th>16348</th>\n",
       "      <td>TRAIN_16348</td>\n",
       "      <td>공짜로 돈을 나눠주겠다는 데 반대할 도민이 과연 있을까.</td>\n",
       "      <td>2</td>\n",
       "      <td>2</td>\n",
       "      <td>1</td>\n",
       "      <td>1</td>\n",
       "      <td>대화형-미정-현재-불확실</td>\n",
       "    </tr>\n",
       "    <tr>\n",
       "      <th>16406</th>\n",
       "      <td>TRAIN_16406</td>\n",
       "      <td>전투기에 장착되는 다양한 유도무기 중에 아군의 피해 없이 원거리에서 지상에 있는 적...</td>\n",
       "      <td>0</td>\n",
       "      <td>2</td>\n",
       "      <td>2</td>\n",
       "      <td>0</td>\n",
       "      <td>사실형-미정-미래-확실</td>\n",
       "    </tr>\n",
       "    <tr>\n",
       "      <th>16528</th>\n",
       "      <td>TRAIN_16528</td>\n",
       "      <td>5월에는 인천-프랑크푸르트 노선을 5월28일부터 주 4회에서 주 5회로 증편하고, ...</td>\n",
       "      <td>0</td>\n",
       "      <td>2</td>\n",
       "      <td>2</td>\n",
       "      <td>0</td>\n",
       "      <td>사실형-미정-미래-확실</td>\n",
       "    </tr>\n",
       "  </tbody>\n",
       "</table>\n",
       "<p>183 rows × 7 columns</p>\n",
       "</div>"
      ],
      "text/plain": [
       "                ID                                                 문장 유형 극성  \\\n",
       "45     TRAIN_00045  ＇월드 오브 드래곤네스트＇는 오는 8일 말레이시아, 싱가포르, 인도네시아, 필리핀,...  0  2   \n",
       "147    TRAIN_00147           해상에서는 서해상을 중심으로 돌풍과 함께 천둥·번개가 치는 곳이 있겠다.  3  2   \n",
       "244    TRAIN_00244  LAH는 에어버스헬리콥터의 H155B1 플랫폼을 기반으로 최신 항전장비와 무장사격통...  0  2   \n",
       "431    TRAIN_00431                ＂확진 임신부가 태아나 신생아에게 코로나를 전염시킬 수 있나?＂  2  2   \n",
       "436    TRAIN_00436  최대 8인의 전투부대를 구성해 지옥성물함 공격대 우두머리에 도전할 수 있으며 150...  1  2   \n",
       "...            ...                                                ... .. ..   \n",
       "16279  TRAIN_16279  반도체 업체 넥스트칩이 내달 1일 코스닥 상장을 위해 16일부터 이틀 간 기관투자자...  0  2   \n",
       "16294  TRAIN_16294                  핵무기로 세상을 위협하는 북한이 가장 두려워하는 것이 뭘까?  2  2   \n",
       "16348  TRAIN_16348                    공짜로 돈을 나눠주겠다는 데 반대할 도민이 과연 있을까.  2  2   \n",
       "16406  TRAIN_16406  전투기에 장착되는 다양한 유도무기 중에 아군의 피해 없이 원거리에서 지상에 있는 적...  0  2   \n",
       "16528  TRAIN_16528  5월에는 인천-프랑크푸르트 노선을 5월28일부터 주 4회에서 주 5회로 증편하고, ...  0  2   \n",
       "\n",
       "      시제 확실성          label  \n",
       "45     1   0   사실형-미정-현재-확실  \n",
       "147    2   1  예측형-미정-미래-불확실  \n",
       "244    2   0   사실형-미정-미래-확실  \n",
       "431    2   1  대화형-미정-미래-불확실  \n",
       "436    2   1  추론형-미정-미래-불확실  \n",
       "...   ..  ..            ...  \n",
       "16279  2   0   사실형-미정-미래-확실  \n",
       "16294  1   1  대화형-미정-현재-불확실  \n",
       "16348  1   1  대화형-미정-현재-불확실  \n",
       "16406  2   0   사실형-미정-미래-확실  \n",
       "16528  2   0   사실형-미정-미래-확실  \n",
       "\n",
       "[183 rows x 7 columns]"
      ]
     },
     "execution_count": 11,
     "metadata": {},
     "output_type": "execute_result"
    }
   ],
   "source": [
    "df[df['극성']==2]"
   ]
  },
  {
   "cell_type": "code",
   "execution_count": 12,
   "metadata": {},
   "outputs": [
    {
     "name": "stdout",
     "output_type": "stream",
     "text": [
      "0    75\n",
      "2    64\n",
      "1    29\n",
      "3    15\n",
      "Name: 유형, dtype: int64\n",
      "2    183\n",
      "Name: 극성, dtype: int64\n",
      "2    105\n",
      "1     63\n",
      "0     15\n",
      "Name: 시제, dtype: int64\n",
      "1    127\n",
      "0     56\n",
      "Name: 확실성, dtype: int64\n"
     ]
    }
   ],
   "source": [
    "print(df[df['극성']==2][\"유형\"].value_counts(), df[df['극성']==2][\"극성\"].value_counts(), df[df['극성']==2][\"시제\"].value_counts(), df[df['극성']==2][\"확실성\"].value_counts(), sep=\"\\n\")"
   ]
  },
  {
   "cell_type": "code",
   "execution_count": 13,
   "metadata": {},
   "outputs": [
    {
     "data": {
      "text/plain": [
       "['대화형-긍정-과거-불확실',\n",
       " '대화형-긍정-과거-확실',\n",
       " '대화형-긍정-미래-불확실',\n",
       " '대화형-긍정-미래-확실',\n",
       " '대화형-긍정-현재-불확실',\n",
       " '대화형-긍정-현재-확실',\n",
       " '대화형-미정-과거-불확실',\n",
       " '대화형-미정-과거-확실',\n",
       " '대화형-미정-미래-불확실',\n",
       " '대화형-미정-미래-확실',\n",
       " '대화형-미정-현재-불확실',\n",
       " '대화형-부정-과거-불확실',\n",
       " '대화형-부정-과거-확실',\n",
       " '대화형-부정-미래-확실',\n",
       " '대화형-부정-현재-불확실',\n",
       " '대화형-부정-현재-확실',\n",
       " '사실형-긍정-과거-불확실',\n",
       " '사실형-긍정-과거-확실',\n",
       " '사실형-긍정-미래-불확실',\n",
       " '사실형-긍정-미래-확실',\n",
       " '사실형-긍정-현재-불확실',\n",
       " '사실형-긍정-현재-확실',\n",
       " '사실형-미정-과거-확실',\n",
       " '사실형-미정-미래-불확실',\n",
       " '사실형-미정-미래-확실',\n",
       " '사실형-미정-현재-불확실',\n",
       " '사실형-미정-현재-확실',\n",
       " '사실형-부정-과거-불확실',\n",
       " '사실형-부정-과거-확실',\n",
       " '사실형-부정-미래-불확실',\n",
       " '사실형-부정-미래-확실',\n",
       " '사실형-부정-현재-불확실',\n",
       " '사실형-부정-현재-확실',\n",
       " '예측형-긍정-과거-불확실',\n",
       " '예측형-긍정-과거-확실',\n",
       " '예측형-긍정-미래-불확실',\n",
       " '예측형-긍정-미래-확실',\n",
       " '예측형-긍정-현재-불확실',\n",
       " '예측형-긍정-현재-확실',\n",
       " '예측형-미정-과거-확실',\n",
       " '예측형-미정-미래-불확실',\n",
       " '예측형-미정-미래-확실',\n",
       " '예측형-미정-현재-불확실',\n",
       " '예측형-미정-현재-확실',\n",
       " '예측형-부정-과거-확실',\n",
       " '예측형-부정-미래-불확실',\n",
       " '예측형-부정-현재-불확실',\n",
       " '추론형-긍정-과거-불확실',\n",
       " '추론형-긍정-과거-확실',\n",
       " '추론형-긍정-미래-불확실',\n",
       " '추론형-긍정-미래-확실',\n",
       " '추론형-긍정-현재-불확실',\n",
       " '추론형-긍정-현재-확실',\n",
       " '추론형-미정-과거-불확실',\n",
       " '추론형-미정-미래-불확실',\n",
       " '추론형-미정-미래-확실',\n",
       " '추론형-미정-현재-불확실',\n",
       " '추론형-미정-현재-확실',\n",
       " '추론형-부정-과거-불확실',\n",
       " '추론형-부정-과거-확실',\n",
       " '추론형-부정-미래-불확실',\n",
       " '추론형-부정-미래-확실',\n",
       " '추론형-부정-현재-불확실',\n",
       " '추론형-부정-현재-확실']"
      ]
     },
     "execution_count": 13,
     "metadata": {},
     "output_type": "execute_result"
    }
   ],
   "source": [
    "sorted(df['label'].unique())"
   ]
  },
  {
   "cell_type": "code",
   "execution_count": 14,
   "metadata": {},
   "outputs": [
    {
     "data": {
      "text/plain": [
       "64"
      ]
     },
     "execution_count": 14,
     "metadata": {},
     "output_type": "execute_result"
    }
   ],
   "source": [
    "len(df['label'].unique())"
   ]
  },
  {
   "cell_type": "code",
   "execution_count": 15,
   "metadata": {},
   "outputs": [
    {
     "data": {
      "text/html": [
       "<div>\n",
       "<style scoped>\n",
       "    .dataframe tbody tr th:only-of-type {\n",
       "        vertical-align: middle;\n",
       "    }\n",
       "\n",
       "    .dataframe tbody tr th {\n",
       "        vertical-align: top;\n",
       "    }\n",
       "\n",
       "    .dataframe thead th {\n",
       "        text-align: right;\n",
       "    }\n",
       "</style>\n",
       "<table border=\"1\" class=\"dataframe\">\n",
       "  <thead>\n",
       "    <tr style=\"text-align: right;\">\n",
       "      <th></th>\n",
       "      <th>ID</th>\n",
       "      <th>문장</th>\n",
       "      <th>유형</th>\n",
       "      <th>극성</th>\n",
       "      <th>시제</th>\n",
       "      <th>확실성</th>\n",
       "      <th>label</th>\n",
       "      <th>target</th>\n",
       "    </tr>\n",
       "  </thead>\n",
       "  <tbody>\n",
       "    <tr>\n",
       "      <th>0</th>\n",
       "      <td>TRAIN_00000</td>\n",
       "      <td>0.75%포인트 금리 인상은 1994년 이후 28년 만에 처음이다.</td>\n",
       "      <td>0</td>\n",
       "      <td>0</td>\n",
       "      <td>1</td>\n",
       "      <td>0</td>\n",
       "      <td>사실형-긍정-현재-확실</td>\n",
       "      <td>21</td>\n",
       "    </tr>\n",
       "    <tr>\n",
       "      <th>1</th>\n",
       "      <td>TRAIN_00001</td>\n",
       "      <td>이어 ＂앞으로 전문가들과 함께 4주 단위로 상황을 재평가할 예정＂이라며 ＂그 이전이...</td>\n",
       "      <td>0</td>\n",
       "      <td>0</td>\n",
       "      <td>0</td>\n",
       "      <td>0</td>\n",
       "      <td>사실형-긍정-과거-확실</td>\n",
       "      <td>17</td>\n",
       "    </tr>\n",
       "    <tr>\n",
       "      <th>2</th>\n",
       "      <td>TRAIN_00002</td>\n",
       "      <td>정부가 고유가 대응을 위해 7월부터 연말까지 유류세 인하 폭을 30%에서 37%까지...</td>\n",
       "      <td>0</td>\n",
       "      <td>0</td>\n",
       "      <td>2</td>\n",
       "      <td>0</td>\n",
       "      <td>사실형-긍정-미래-확실</td>\n",
       "      <td>19</td>\n",
       "    </tr>\n",
       "    <tr>\n",
       "      <th>3</th>\n",
       "      <td>TRAIN_00003</td>\n",
       "      <td>서울시는 올해 3월 즉시 견인 유예시간 60분을 제공하겠다고 밝혔지만, 하루 만에 ...</td>\n",
       "      <td>0</td>\n",
       "      <td>0</td>\n",
       "      <td>0</td>\n",
       "      <td>0</td>\n",
       "      <td>사실형-긍정-과거-확실</td>\n",
       "      <td>17</td>\n",
       "    </tr>\n",
       "    <tr>\n",
       "      <th>4</th>\n",
       "      <td>TRAIN_00004</td>\n",
       "      <td>익사한 자는 사다리에 태워 거꾸로 놓고 소금으로 코를 막아 가득 채운다.</td>\n",
       "      <td>0</td>\n",
       "      <td>0</td>\n",
       "      <td>1</td>\n",
       "      <td>0</td>\n",
       "      <td>사실형-긍정-현재-확실</td>\n",
       "      <td>21</td>\n",
       "    </tr>\n",
       "    <tr>\n",
       "      <th>...</th>\n",
       "      <td>...</td>\n",
       "      <td>...</td>\n",
       "      <td>...</td>\n",
       "      <td>...</td>\n",
       "      <td>...</td>\n",
       "      <td>...</td>\n",
       "      <td>...</td>\n",
       "      <td>...</td>\n",
       "    </tr>\n",
       "    <tr>\n",
       "      <th>16536</th>\n",
       "      <td>TRAIN_16536</td>\n",
       "      <td>＇신동덤＇은 ＇신비한 동물사전＇과 ＇해리 포터＇ 시리즈를 잇는 마법 어드벤처물로, ...</td>\n",
       "      <td>0</td>\n",
       "      <td>0</td>\n",
       "      <td>0</td>\n",
       "      <td>0</td>\n",
       "      <td>사실형-긍정-과거-확실</td>\n",
       "      <td>17</td>\n",
       "    </tr>\n",
       "    <tr>\n",
       "      <th>16537</th>\n",
       "      <td>TRAIN_16537</td>\n",
       "      <td>수족냉증은 어릴 때부터 심했으며 관절은 어디 한 곳이 아니고 목, 어깨, 팔꿈치, ...</td>\n",
       "      <td>0</td>\n",
       "      <td>0</td>\n",
       "      <td>0</td>\n",
       "      <td>0</td>\n",
       "      <td>사실형-긍정-과거-확실</td>\n",
       "      <td>17</td>\n",
       "    </tr>\n",
       "    <tr>\n",
       "      <th>16538</th>\n",
       "      <td>TRAIN_16538</td>\n",
       "      <td>김금희 소설가는 ＂계약서 조정이 그리 어려운가 작가를 격려한다면서 그런 문구 하나 ...</td>\n",
       "      <td>0</td>\n",
       "      <td>0</td>\n",
       "      <td>0</td>\n",
       "      <td>0</td>\n",
       "      <td>사실형-긍정-과거-확실</td>\n",
       "      <td>17</td>\n",
       "    </tr>\n",
       "    <tr>\n",
       "      <th>16539</th>\n",
       "      <td>TRAIN_16539</td>\n",
       "      <td>1만명이 넘는 방문자수를 기록한 이번 전시회는 총 77개 작품을 넥슨 사옥을 그대로...</td>\n",
       "      <td>0</td>\n",
       "      <td>0</td>\n",
       "      <td>0</td>\n",
       "      <td>1</td>\n",
       "      <td>사실형-긍정-과거-불확실</td>\n",
       "      <td>16</td>\n",
       "    </tr>\n",
       "    <tr>\n",
       "      <th>16540</th>\n",
       "      <td>TRAIN_16540</td>\n",
       "      <td>《목민심서》의 내용이다.</td>\n",
       "      <td>0</td>\n",
       "      <td>0</td>\n",
       "      <td>1</td>\n",
       "      <td>0</td>\n",
       "      <td>사실형-긍정-현재-확실</td>\n",
       "      <td>21</td>\n",
       "    </tr>\n",
       "  </tbody>\n",
       "</table>\n",
       "<p>16541 rows × 8 columns</p>\n",
       "</div>"
      ],
      "text/plain": [
       "                ID                                                 문장 유형 극성  \\\n",
       "0      TRAIN_00000              0.75%포인트 금리 인상은 1994년 이후 28년 만에 처음이다.  0  0   \n",
       "1      TRAIN_00001  이어 ＂앞으로 전문가들과 함께 4주 단위로 상황을 재평가할 예정＂이라며 ＂그 이전이...  0  0   \n",
       "2      TRAIN_00002  정부가 고유가 대응을 위해 7월부터 연말까지 유류세 인하 폭을 30%에서 37%까지...  0  0   \n",
       "3      TRAIN_00003  서울시는 올해 3월 즉시 견인 유예시간 60분을 제공하겠다고 밝혔지만, 하루 만에 ...  0  0   \n",
       "4      TRAIN_00004           익사한 자는 사다리에 태워 거꾸로 놓고 소금으로 코를 막아 가득 채운다.  0  0   \n",
       "...            ...                                                ... .. ..   \n",
       "16536  TRAIN_16536  ＇신동덤＇은 ＇신비한 동물사전＇과 ＇해리 포터＇ 시리즈를 잇는 마법 어드벤처물로, ...  0  0   \n",
       "16537  TRAIN_16537  수족냉증은 어릴 때부터 심했으며 관절은 어디 한 곳이 아니고 목, 어깨, 팔꿈치, ...  0  0   \n",
       "16538  TRAIN_16538  김금희 소설가는 ＂계약서 조정이 그리 어려운가 작가를 격려한다면서 그런 문구 하나 ...  0  0   \n",
       "16539  TRAIN_16539  1만명이 넘는 방문자수를 기록한 이번 전시회는 총 77개 작품을 넥슨 사옥을 그대로...  0  0   \n",
       "16540  TRAIN_16540                                      《목민심서》의 내용이다.  0  0   \n",
       "\n",
       "      시제 확실성          label  target  \n",
       "0      1   0   사실형-긍정-현재-확실      21  \n",
       "1      0   0   사실형-긍정-과거-확실      17  \n",
       "2      2   0   사실형-긍정-미래-확실      19  \n",
       "3      0   0   사실형-긍정-과거-확실      17  \n",
       "4      1   0   사실형-긍정-현재-확실      21  \n",
       "...   ..  ..            ...     ...  \n",
       "16536  0   0   사실형-긍정-과거-확실      17  \n",
       "16537  0   0   사실형-긍정-과거-확실      17  \n",
       "16538  0   0   사실형-긍정-과거-확실      17  \n",
       "16539  0   1  사실형-긍정-과거-불확실      16  \n",
       "16540  1   0   사실형-긍정-현재-확실      21  \n",
       "\n",
       "[16541 rows x 8 columns]"
      ]
     },
     "execution_count": 15,
     "metadata": {},
     "output_type": "execute_result"
    }
   ],
   "source": [
    "le = LabelEncoder()\n",
    "le.fit(df['label'])\n",
    "df['target'] = le.transform(df['label'])\n",
    "df"
   ]
  },
  {
   "cell_type": "code",
   "execution_count": 16,
   "metadata": {},
   "outputs": [],
   "source": [
    "def count_and_plot(y): \n",
    "    counter = Counter(y)\n",
    "    for k,v in counter.items():\n",
    "        print('Class=%d, n=%d (%.3f%%)' % (k, v, v / len(y) * 100))\n",
    "    plt.bar(counter.keys(), counter.values())\n",
    "    plt.ylim(0, 50)\n",
    "    plt.show()"
   ]
  },
  {
   "cell_type": "code",
   "execution_count": 17,
   "metadata": {},
   "outputs": [
    {
     "name": "stdout",
     "output_type": "stream",
     "text": [
      "Class=21, n=4743 (28.674%)\n",
      "Class=17, n=7113 (43.002%)\n",
      "Class=19, n=649 (3.924%)\n",
      "Class=63, n=93 (0.562%)\n",
      "Class=35, n=141 (0.852%)\n",
      "Class=52, n=1101 (6.656%)\n",
      "Class=48, n=335 (2.025%)\n",
      "Class=51, n=130 (0.786%)\n",
      "Class=3, n=26 (0.157%)\n",
      "Class=26, n=18 (0.109%)\n",
      "Class=28, n=183 (1.106%)\n",
      "Class=44, n=1 (0.006%)\n",
      "Class=50, n=204 (1.233%)\n",
      "Class=18, n=236 (1.427%)\n",
      "Class=5, n=257 (1.554%)\n",
      "Class=32, n=174 (1.052%)\n",
      "Class=1, n=120 (0.725%)\n",
      "Class=16, n=144 (0.871%)\n",
      "Class=20, n=200 (1.209%)\n",
      "Class=4, n=44 (0.266%)\n",
      "Class=40, n=10 (0.060%)\n",
      "Class=36, n=57 (0.345%)\n",
      "Class=61, n=7 (0.042%)\n",
      "Class=24, n=26 (0.157%)\n",
      "Class=49, n=167 (1.010%)\n",
      "Class=12, n=5 (0.030%)\n",
      "Class=2, n=22 (0.133%)\n",
      "Class=8, n=22 (0.133%)\n",
      "Class=54, n=20 (0.121%)\n",
      "Class=60, n=5 (0.030%)\n",
      "Class=59, n=16 (0.097%)\n",
      "Class=23, n=22 (0.133%)\n",
      "Class=47, n=49 (0.296%)\n",
      "Class=38, n=13 (0.079%)\n",
      "Class=27, n=10 (0.060%)\n",
      "Class=34, n=10 (0.060%)\n",
      "Class=33, n=8 (0.048%)\n",
      "Class=0, n=16 (0.097%)\n",
      "Class=6, n=10 (0.060%)\n",
      "Class=30, n=14 (0.085%)\n",
      "Class=62, n=9 (0.054%)\n",
      "Class=25, n=7 (0.042%)\n",
      "Class=10, n=29 (0.175%)\n",
      "Class=46, n=1 (0.006%)\n",
      "Class=14, n=5 (0.030%)\n",
      "Class=37, n=8 (0.048%)\n",
      "Class=55, n=2 (0.012%)\n",
      "Class=29, n=6 (0.036%)\n",
      "Class=56, n=4 (0.024%)\n",
      "Class=15, n=14 (0.085%)\n",
      "Class=22, n=2 (0.012%)\n",
      "Class=58, n=6 (0.036%)\n",
      "Class=31, n=11 (0.067%)\n",
      "Class=13, n=1 (0.006%)\n",
      "Class=43, n=1 (0.006%)\n",
      "Class=42, n=2 (0.012%)\n",
      "Class=45, n=3 (0.018%)\n",
      "Class=9, n=2 (0.012%)\n",
      "Class=7, n=1 (0.006%)\n",
      "Class=57, n=2 (0.012%)\n",
      "Class=11, n=1 (0.006%)\n",
      "Class=53, n=1 (0.006%)\n",
      "Class=41, n=1 (0.006%)\n",
      "Class=39, n=1 (0.006%)\n"
     ]
    },
    {
     "data": {
      "image/png": "[encoded data removed]",
      "text/plain": [
       "<Figure size 640x480 with 1 Axes>"
      ]
     },
     "metadata": {},
     "output_type": "display_data"
    }
   ],
   "source": [
    "y = df['target']\n",
    "X = df.drop(labels='target', axis=1)\n",
    "count_and_plot(y)"
   ]
  },
  {
   "cell_type": "code",
   "execution_count": 18,
   "metadata": {},
   "outputs": [
    {
     "name": "stdout",
     "output_type": "stream",
     "text": [
      "Class=21, n=7113 (1.562%)\n",
      "Class=17, n=7113 (1.562%)\n",
      "Class=19, n=7113 (1.562%)\n",
      "Class=63, n=7113 (1.562%)\n",
      "Class=35, n=7113 (1.562%)\n",
      "Class=52, n=7113 (1.562%)\n",
      "Class=48, n=7113 (1.562%)\n",
      "Class=51, n=7113 (1.562%)\n",
      "Class=3, n=7113 (1.562%)\n",
      "Class=26, n=7113 (1.562%)\n",
      "Class=28, n=7113 (1.562%)\n",
      "Class=44, n=7113 (1.562%)\n",
      "Class=50, n=7113 (1.562%)\n",
      "Class=18, n=7113 (1.562%)\n",
      "Class=5, n=7113 (1.562%)\n",
      "Class=32, n=7113 (1.562%)\n",
      "Class=1, n=7113 (1.562%)\n",
      "Class=16, n=7113 (1.562%)\n",
      "Class=20, n=7113 (1.562%)\n",
      "Class=4, n=7113 (1.562%)\n",
      "Class=40, n=7113 (1.562%)\n",
      "Class=36, n=7113 (1.562%)\n",
      "Class=61, n=7113 (1.562%)\n",
      "Class=24, n=7113 (1.562%)\n",
      "Class=49, n=7113 (1.562%)\n",
      "Class=12, n=7113 (1.562%)\n",
      "Class=2, n=7113 (1.562%)\n",
      "Class=8, n=7113 (1.562%)\n",
      "Class=54, n=7113 (1.562%)\n",
      "Class=60, n=7113 (1.562%)\n",
      "Class=59, n=7113 (1.562%)\n",
      "Class=23, n=7113 (1.562%)\n",
      "Class=47, n=7113 (1.562%)\n",
      "Class=38, n=7113 (1.562%)\n",
      "Class=27, n=7113 (1.562%)\n",
      "Class=34, n=7113 (1.562%)\n",
      "Class=33, n=7113 (1.562%)\n",
      "Class=0, n=7113 (1.562%)\n",
      "Class=6, n=7113 (1.562%)\n",
      "Class=30, n=7113 (1.562%)\n",
      "Class=62, n=7113 (1.562%)\n",
      "Class=25, n=7113 (1.562%)\n",
      "Class=10, n=7113 (1.562%)\n",
      "Class=46, n=7113 (1.562%)\n",
      "Class=14, n=7113 (1.562%)\n",
      "Class=37, n=7113 (1.562%)\n",
      "Class=55, n=7113 (1.562%)\n",
      "Class=29, n=7113 (1.562%)\n",
      "Class=56, n=7113 (1.562%)\n",
      "Class=15, n=7113 (1.562%)\n",
      "Class=22, n=7113 (1.562%)\n",
      "Class=58, n=7113 (1.562%)\n",
      "Class=31, n=7113 (1.562%)\n",
      "Class=13, n=7113 (1.562%)\n",
      "Class=43, n=7113 (1.562%)\n",
      "Class=42, n=7113 (1.562%)\n",
      "Class=45, n=7113 (1.562%)\n",
      "Class=9, n=7113 (1.562%)\n",
      "Class=7, n=7113 (1.562%)\n",
      "Class=57, n=7113 (1.562%)\n",
      "Class=11, n=7113 (1.562%)\n",
      "Class=53, n=7113 (1.562%)\n",
      "Class=41, n=7113 (1.562%)\n",
      "Class=39, n=7113 (1.562%)\n"
     ]
    },
    {
     "data": {
      "image/png": "[encoded data removed]",
      "text/plain": [
       "<Figure size 640x480 with 1 Axes>"
      ]
     },
     "metadata": {},
     "output_type": "display_data"
    }
   ],
   "source": [
    "oversample = RandomOverSampler(random_state=0)\n",
    "X_over, y_over = oversample.fit_resample(X, y)\n",
    "count_and_plot(y_over)"
   ]
  },
  {
   "cell_type": "code",
   "execution_count": 19,
   "metadata": {},
   "outputs": [
    {
     "data": {
      "text/html": [
       "<div>\n",
       "<style scoped>\n",
       "    .dataframe tbody tr th:only-of-type {\n",
       "        vertical-align: middle;\n",
       "    }\n",
       "\n",
       "    .dataframe tbody tr th {\n",
       "        vertical-align: top;\n",
       "    }\n",
       "\n",
       "    .dataframe thead th {\n",
       "        text-align: right;\n",
       "    }\n",
       "</style>\n",
       "<table border=\"1\" class=\"dataframe\">\n",
       "  <thead>\n",
       "    <tr style=\"text-align: right;\">\n",
       "      <th></th>\n",
       "      <th>ID</th>\n",
       "      <th>문장</th>\n",
       "      <th>유형</th>\n",
       "      <th>극성</th>\n",
       "      <th>시제</th>\n",
       "      <th>확실성</th>\n",
       "      <th>label</th>\n",
       "    </tr>\n",
       "  </thead>\n",
       "  <tbody>\n",
       "    <tr>\n",
       "      <th>0</th>\n",
       "      <td>TRAIN_00000</td>\n",
       "      <td>0.75%포인트 금리 인상은 1994년 이후 28년 만에 처음이다.</td>\n",
       "      <td>0</td>\n",
       "      <td>0</td>\n",
       "      <td>1</td>\n",
       "      <td>0</td>\n",
       "      <td>사실형-긍정-현재-확실</td>\n",
       "    </tr>\n",
       "    <tr>\n",
       "      <th>1</th>\n",
       "      <td>TRAIN_00001</td>\n",
       "      <td>이어 ＂앞으로 전문가들과 함께 4주 단위로 상황을 재평가할 예정＂이라며 ＂그 이전이...</td>\n",
       "      <td>0</td>\n",
       "      <td>0</td>\n",
       "      <td>0</td>\n",
       "      <td>0</td>\n",
       "      <td>사실형-긍정-과거-확실</td>\n",
       "    </tr>\n",
       "    <tr>\n",
       "      <th>2</th>\n",
       "      <td>TRAIN_00002</td>\n",
       "      <td>정부가 고유가 대응을 위해 7월부터 연말까지 유류세 인하 폭을 30%에서 37%까지...</td>\n",
       "      <td>0</td>\n",
       "      <td>0</td>\n",
       "      <td>2</td>\n",
       "      <td>0</td>\n",
       "      <td>사실형-긍정-미래-확실</td>\n",
       "    </tr>\n",
       "    <tr>\n",
       "      <th>3</th>\n",
       "      <td>TRAIN_00003</td>\n",
       "      <td>서울시는 올해 3월 즉시 견인 유예시간 60분을 제공하겠다고 밝혔지만, 하루 만에 ...</td>\n",
       "      <td>0</td>\n",
       "      <td>0</td>\n",
       "      <td>0</td>\n",
       "      <td>0</td>\n",
       "      <td>사실형-긍정-과거-확실</td>\n",
       "    </tr>\n",
       "    <tr>\n",
       "      <th>4</th>\n",
       "      <td>TRAIN_00004</td>\n",
       "      <td>익사한 자는 사다리에 태워 거꾸로 놓고 소금으로 코를 막아 가득 채운다.</td>\n",
       "      <td>0</td>\n",
       "      <td>0</td>\n",
       "      <td>1</td>\n",
       "      <td>0</td>\n",
       "      <td>사실형-긍정-현재-확실</td>\n",
       "    </tr>\n",
       "    <tr>\n",
       "      <th>...</th>\n",
       "      <td>...</td>\n",
       "      <td>...</td>\n",
       "      <td>...</td>\n",
       "      <td>...</td>\n",
       "      <td>...</td>\n",
       "      <td>...</td>\n",
       "      <td>...</td>\n",
       "    </tr>\n",
       "    <tr>\n",
       "      <th>455227</th>\n",
       "      <td>TRAIN_00153</td>\n",
       "      <td>＂영웅이 되어 돌아가기 위해서 온 것도 아니다.＂</td>\n",
       "      <td>1</td>\n",
       "      <td>1</td>\n",
       "      <td>1</td>\n",
       "      <td>0</td>\n",
       "      <td>추론형-부정-현재-확실</td>\n",
       "    </tr>\n",
       "    <tr>\n",
       "      <th>455228</th>\n",
       "      <td>TRAIN_08133</td>\n",
       "      <td>코로나19가 경제에 주는 충격을 현재 단계에서는 섣불리 가늠하기 어려울 것 같다.</td>\n",
       "      <td>1</td>\n",
       "      <td>1</td>\n",
       "      <td>1</td>\n",
       "      <td>0</td>\n",
       "      <td>추론형-부정-현재-확실</td>\n",
       "    </tr>\n",
       "    <tr>\n",
       "      <th>455229</th>\n",
       "      <td>TRAIN_06290</td>\n",
       "      <td>어느 정당도 ＇빽＇ 없는 서점 주인이나 치킨집 사장을 인재로 영입하지 않는다.</td>\n",
       "      <td>1</td>\n",
       "      <td>1</td>\n",
       "      <td>1</td>\n",
       "      <td>0</td>\n",
       "      <td>추론형-부정-현재-확실</td>\n",
       "    </tr>\n",
       "    <tr>\n",
       "      <th>455230</th>\n",
       "      <td>TRAIN_12029</td>\n",
       "      <td>지난 2019년 5월 칸국제영화제서부터 봉 감독의 통역을 도맡아 해온 최성재(샤론 ...</td>\n",
       "      <td>1</td>\n",
       "      <td>1</td>\n",
       "      <td>1</td>\n",
       "      <td>0</td>\n",
       "      <td>추론형-부정-현재-확실</td>\n",
       "    </tr>\n",
       "    <tr>\n",
       "      <th>455231</th>\n",
       "      <td>TRAIN_09613</td>\n",
       "      <td>점막과 혈관 내벽이 회복되지 않으면 건선뿐 아니라 피부에 나타나는 다른 질환도 근본...</td>\n",
       "      <td>1</td>\n",
       "      <td>1</td>\n",
       "      <td>1</td>\n",
       "      <td>0</td>\n",
       "      <td>추론형-부정-현재-확실</td>\n",
       "    </tr>\n",
       "  </tbody>\n",
       "</table>\n",
       "<p>455232 rows × 7 columns</p>\n",
       "</div>"
      ],
      "text/plain": [
       "                 ID                                                 문장 유형 극성  \\\n",
       "0       TRAIN_00000              0.75%포인트 금리 인상은 1994년 이후 28년 만에 처음이다.  0  0   \n",
       "1       TRAIN_00001  이어 ＂앞으로 전문가들과 함께 4주 단위로 상황을 재평가할 예정＂이라며 ＂그 이전이...  0  0   \n",
       "2       TRAIN_00002  정부가 고유가 대응을 위해 7월부터 연말까지 유류세 인하 폭을 30%에서 37%까지...  0  0   \n",
       "3       TRAIN_00003  서울시는 올해 3월 즉시 견인 유예시간 60분을 제공하겠다고 밝혔지만, 하루 만에 ...  0  0   \n",
       "4       TRAIN_00004           익사한 자는 사다리에 태워 거꾸로 놓고 소금으로 코를 막아 가득 채운다.  0  0   \n",
       "...             ...                                                ... .. ..   \n",
       "455227  TRAIN_00153                        ＂영웅이 되어 돌아가기 위해서 온 것도 아니다.＂  1  1   \n",
       "455228  TRAIN_08133      코로나19가 경제에 주는 충격을 현재 단계에서는 섣불리 가늠하기 어려울 것 같다.  1  1   \n",
       "455229  TRAIN_06290        어느 정당도 ＇빽＇ 없는 서점 주인이나 치킨집 사장을 인재로 영입하지 않는다.  1  1   \n",
       "455230  TRAIN_12029  지난 2019년 5월 칸국제영화제서부터 봉 감독의 통역을 도맡아 해온 최성재(샤론 ...  1  1   \n",
       "455231  TRAIN_09613  점막과 혈관 내벽이 회복되지 않으면 건선뿐 아니라 피부에 나타나는 다른 질환도 근본...  1  1   \n",
       "\n",
       "       시제 확실성         label  \n",
       "0       1   0  사실형-긍정-현재-확실  \n",
       "1       0   0  사실형-긍정-과거-확실  \n",
       "2       2   0  사실형-긍정-미래-확실  \n",
       "3       0   0  사실형-긍정-과거-확실  \n",
       "4       1   0  사실형-긍정-현재-확실  \n",
       "...    ..  ..           ...  \n",
       "455227  1   0  추론형-부정-현재-확실  \n",
       "455228  1   0  추론형-부정-현재-확실  \n",
       "455229  1   0  추론형-부정-현재-확실  \n",
       "455230  1   0  추론형-부정-현재-확실  \n",
       "455231  1   0  추론형-부정-현재-확실  \n",
       "\n",
       "[455232 rows x 7 columns]"
      ]
     },
     "execution_count": 19,
     "metadata": {},
     "output_type": "execute_result"
    }
   ],
   "source": [
    "X_over"
   ]
  },
  {
   "cell_type": "code",
   "execution_count": 20,
   "metadata": {},
   "outputs": [
    {
     "name": "stdout",
     "output_type": "stream",
     "text": [
      "0    120921\n",
      "1    120921\n",
      "2    113808\n",
      "3     99582\n",
      "Name: 유형, dtype: int64\n",
      "0    170712\n",
      "1    142260\n",
      "2    142260\n",
      "Name: 극성, dtype: int64\n",
      "1    156486\n",
      "2    156486\n",
      "0    142260\n",
      "Name: 시제, dtype: int64\n",
      "0    227616\n",
      "1    227616\n",
      "Name: 확실성, dtype: int64\n"
     ]
    }
   ],
   "source": [
    "print(X_over[\"유형\"].value_counts(), X_over[\"극성\"].value_counts(), X_over[\"시제\"].value_counts(), X_over[\"확실성\"].value_counts(), sep=\"\\n\")"
   ]
  },
  {
   "attachments": {},
   "cell_type": "markdown",
   "metadata": {},
   "source": [
    "# 학습"
   ]
  },
  {
   "cell_type": "code",
   "execution_count": 21,
   "metadata": {},
   "outputs": [],
   "source": [
    "import torch\n",
    "from torch import nn\n",
    "import torch.nn.functional as F\n",
    "import torch.optim as optim\n",
    "from torch.utils.data import Dataset, DataLoader\n",
    "import gluonnlp as nlp\n",
    "from konlpy.tag import Komoran\n",
    "from tqdm.notebook import tqdm\n",
    "from sklearn.model_selection import train_test_split\n",
    "from sklearn.metrics import f1_score"
   ]
  },
  {
   "cell_type": "code",
   "execution_count": 22,
   "metadata": {},
   "outputs": [],
   "source": [
    "seed = 0\n",
    "max_len = 64\n",
    "batch_size = 150\n",
    "warmup_ratio = 0.1\n",
    "num_epochs = 1000\n",
    "max_grad_norm = 1\n",
    "log_interval = 200\n",
    "learning_rate =  5e-5\n",
    "device = 'cuda' if torch.cuda.is_available() else 'cpu'"
   ]
  },
  {
   "cell_type": "code",
   "execution_count": 23,
   "metadata": {},
   "outputs": [],
   "source": [
    "from kobert import get_tokenizer\n",
    "from kobert import get_pytorch_kobert_model\n",
    "from transformers import AdamW\n",
    "from transformers.optimization import get_cosine_schedule_with_warmup"
   ]
  },
  {
   "cell_type": "code",
   "execution_count": 24,
   "metadata": {},
   "outputs": [
    {
     "name": "stdout",
     "output_type": "stream",
     "text": [
      "using cached model. /mnt/c/Users/asdzx/Documents/2212Dacon/.cache/kobert_v1.zip\n",
      "using cached model. /mnt/c/Users/asdzx/Documents/2212Dacon/.cache/kobert_news_wiki_ko_cased-1087f8699e.spiece\n"
     ]
    }
   ],
   "source": [
    "bertmodel, vocab = get_pytorch_kobert_model(cachedir=\".cache\")"
   ]
  },
  {
   "cell_type": "code",
   "execution_count": 25,
   "metadata": {},
   "outputs": [],
   "source": [
    "train, val, _, _ = train_test_split(X_over, X_over['label'], test_size=0.2, random_state=seed, stratify = X_over[\"유형\"])"
   ]
  },
  {
   "cell_type": "code",
   "execution_count": 26,
   "metadata": {},
   "outputs": [
    {
     "name": "stdout",
     "output_type": "stream",
     "text": [
      "using cached model. /mnt/c/Users/asdzx/Documents/2212Dacon/.cache/kobert_news_wiki_ko_cased-1087f8699e.spiece\n"
     ]
    }
   ],
   "source": [
    "tokenizer = get_tokenizer()\n",
    "tok = nlp.data.BERTSPTokenizer(tokenizer, vocab, lower=False)"
   ]
  },
  {
   "cell_type": "code",
   "execution_count": 27,
   "metadata": {},
   "outputs": [],
   "source": [
    "class BERTDataset(Dataset):\n",
    "    def __init__(self, dataset, bert_tokenizer, max_len,\n",
    "                 pad, pair, train):\n",
    "        transform = nlp.data.BERTSentenceTransform(\n",
    "            bert_tokenizer, max_seq_length=max_len, pad=pad, pair=pair)\n",
    "        self.train=train\n",
    "        self.sentences = [transform([i]) for i in dataset[\"문장\"]]\n",
    "        if train:\n",
    "          self.type_labels = [np.int32(i) for i in dataset[\"유형\"]]\n",
    "          self.polarity_labels = [np.int32(i) for i in dataset[\"극성\"]]\n",
    "          self.tense_labels = [np.int32(i) for i in dataset[\"시제\"]]\n",
    "          self.certainty_labels = [np.int32(i) for i in dataset[\"확실성\"]]\n",
    "\n",
    "    def __getitem__(self, i):\n",
    "        if self.train:\n",
    "          return (self.sentences[i] + (self.type_labels[i], self.polarity_labels[i], self.tense_labels[i], self.certainty_labels[i]))\n",
    "        return (self.sentences[i],)\n",
    "\n",
    "    def __len__(self):\n",
    "        return (len(self.sentences))\n"
   ]
  },
  {
   "cell_type": "code",
   "execution_count": 28,
   "metadata": {},
   "outputs": [],
   "source": [
    "data_train = BERTDataset(train, tok, max_len, True, False, True)\n",
    "data_val = BERTDataset(val, tok, max_len, True, False, True)"
   ]
  },
  {
   "cell_type": "code",
   "execution_count": 29,
   "metadata": {},
   "outputs": [],
   "source": [
    "train_dataloader = torch.utils.data.DataLoader(data_train, batch_size=batch_size, shuffle=True, num_workers=0, drop_last=True)\n",
    "val_dataloader = torch.utils.data.DataLoader(data_val, batch_size=batch_size, shuffle=False, num_workers=0)"
   ]
  },
  {
   "cell_type": "code",
   "execution_count": 30,
   "metadata": {},
   "outputs": [],
   "source": [
    "class BERTClassifier(nn.Module):\n",
    "    def __init__(self,\n",
    "                 bert,\n",
    "                 hidden_size = 768,\n",
    "                 dr_rate=None,\n",
    "                 params=None):\n",
    "        super(BERTClassifier, self).__init__()\n",
    "        self.bert = bert\n",
    "        self.dr_rate = dr_rate\n",
    "                 \n",
    "        self.type_classifier = nn.Linear(hidden_size , 4)\n",
    "        self.polarity_classifier = nn.Linear(hidden_size , 3)\n",
    "        self.tense_classifier = nn.Linear(hidden_size , 3)\n",
    "        self.certainty_classifier = nn.Linear(hidden_size , 2)\n",
    "        if dr_rate:\n",
    "            self.dropout = nn.Dropout(p=dr_rate)\n",
    "    \n",
    "    def gen_attention_mask(self, token_ids, valid_length):\n",
    "        attention_mask = torch.zeros_like(token_ids)\n",
    "        for i, v in enumerate(valid_length):\n",
    "            attention_mask[i][:v] = 1\n",
    "        return attention_mask.float()\n",
    "\n",
    "    def forward(self, token_ids, valid_length, segment_ids):\n",
    "        attention_mask = self.gen_attention_mask(token_ids, valid_length)\n",
    "        \n",
    "        _, pooler = self.bert(input_ids = token_ids, token_type_ids = segment_ids.long(), attention_mask = attention_mask.float().to(token_ids.device))\n",
    "        if self.dr_rate:\n",
    "            out = self.dropout(pooler)\n",
    "        else:\n",
    "            out = pooler\n",
    "        return self.type_classifier(out), self.polarity_classifier(out), self.tense_classifier(out), self.certainty_classifier(out)"
   ]
  },
  {
   "cell_type": "code",
   "execution_count": 31,
   "metadata": {},
   "outputs": [],
   "source": [
    "model = BERTClassifier(bertmodel,  dr_rate=0.5).to(device)"
   ]
  },
  {
   "cell_type": "code",
   "execution_count": 32,
   "metadata": {},
   "outputs": [],
   "source": [
    "# Prepare optimizer and schedule (linear warmup and decay)\n",
    "no_decay = ['bias', 'LayerNorm.weight']\n",
    "optimizer_grouped_parameters = [\n",
    "    {'params': [p for n, p in model.named_parameters() if not any(nd in n for nd in no_decay)], 'weight_decay': 0.01},\n",
    "    {'params': [p for n, p in model.named_parameters() if any(nd in n for nd in no_decay)], 'weight_decay': 0.0}\n",
    "]"
   ]
  },
  {
   "cell_type": "code",
   "execution_count": 33,
   "metadata": {},
   "outputs": [],
   "source": [
    "optimizer = AdamW(optimizer_grouped_parameters, lr=learning_rate)\n",
    "loss_fn = nn.CrossEntropyLoss()"
   ]
  },
  {
   "cell_type": "code",
   "execution_count": 34,
   "metadata": {},
   "outputs": [],
   "source": [
    "t_total = len(train_dataloader) * num_epochs\n",
    "warmup_step = int(t_total * warmup_ratio)"
   ]
  },
  {
   "cell_type": "code",
   "execution_count": 35,
   "metadata": {},
   "outputs": [],
   "source": [
    "scheduler = get_cosine_schedule_with_warmup(optimizer, num_warmup_steps=warmup_step, num_training_steps=t_total)"
   ]
  },
  {
   "cell_type": "code",
   "execution_count": 36,
   "metadata": {},
   "outputs": [],
   "source": [
    "def validation(model, val_loader, criterion, device):\n",
    "    model.eval()\n",
    "    val_loss = []\n",
    "    \n",
    "    type_preds, polarity_preds, tense_preds, certainty_preds = [], [], [], []\n",
    "    type_labels, polarity_labels, tense_labels, certainty_labels = [], [], [], []\n",
    "    \n",
    "    \n",
    "    with torch.no_grad():\n",
    "        for batch_id, (token_ids, valid_length, segment_ids, type_label, polarity_label, tense_label, certainty_label) in tqdm(enumerate(val_loader), total=len(val_loader)):\n",
    "            token_ids = token_ids.long().to(device)\n",
    "            segment_ids = segment_ids.long().to(device)\n",
    "            valid_length = valid_length\n",
    "            type_label = type_label.long().to(device)\n",
    "            polarity_label = polarity_label.long().to(device)\n",
    "            tense_label = tense_label.long().to(device)\n",
    "            certainty_label = certainty_label.long().to(device)\n",
    "            type_logit, polarity_logit, tense_logit, certainty_logit = model(token_ids, valid_length, segment_ids)\n",
    "            \n",
    "            loss = 0.25 * criterion['type'](type_logit, type_label) + \\\n",
    "                        0.25 * criterion['polarity'](polarity_logit, polarity_label) + \\\n",
    "                        0.25 * criterion['tense'](tense_logit, tense_label) + \\\n",
    "                        0.25 * criterion['certainty'](certainty_logit, certainty_label)\n",
    "            \n",
    "            val_loss.append(loss.item())\n",
    "            \n",
    "            type_preds += type_logit.argmax(1).detach().cpu().numpy().tolist()\n",
    "            type_labels += type_label.detach().cpu().numpy().tolist()\n",
    "            \n",
    "            polarity_preds += polarity_logit.argmax(1).detach().cpu().numpy().tolist()\n",
    "            polarity_labels += polarity_label.detach().cpu().numpy().tolist()\n",
    "            \n",
    "            tense_preds += tense_logit.argmax(1).detach().cpu().numpy().tolist()\n",
    "            tense_labels += tense_label.detach().cpu().numpy().tolist()\n",
    "            \n",
    "            certainty_preds += certainty_logit.argmax(1).detach().cpu().numpy().tolist()\n",
    "            certainty_labels += certainty_label.detach().cpu().numpy().tolist()\n",
    "    \n",
    "    type_f1 = f1_score(type_labels, type_preds, average='weighted')\n",
    "    polarity_f1 = f1_score(polarity_labels, polarity_preds, average='weighted')\n",
    "    tense_f1 = f1_score(tense_labels, tense_preds, average='weighted')\n",
    "    certainty_f1 = f1_score(certainty_labels, certainty_preds, average='weighted')\n",
    "    \n",
    "    return np.mean(val_loss), type_f1, polarity_f1, tense_f1, certainty_f1"
   ]
  },
  {
   "cell_type": "code",
   "execution_count": 37,
   "metadata": {},
   "outputs": [],
   "source": [
    "def train(model, optimizer, train_loader, val_loader, scheduler, device):\n",
    "\n",
    "  log_df = {\"train_losses\":[], \"val_losses\":[], \"type_f1s\":[], \"polarity_f1s\":[], \"tense_f1s\":[], \"certainty_f1s\":[]}\n",
    "\n",
    "  for e in range(num_epochs):\n",
    "\n",
    "      criterion = {\n",
    "          'type' : nn.CrossEntropyLoss().to(device),\n",
    "          'polarity' : nn.CrossEntropyLoss().to(device),\n",
    "          'tense' : nn.CrossEntropyLoss().to(device),\n",
    "          'certainty' : nn.CrossEntropyLoss().to(device)\n",
    "      }\n",
    "\n",
    "      model.train()\n",
    "      train_loss = []\n",
    "      for batch_id, (token_ids, valid_length, segment_ids, type_labels, polarity_labels, tense_labels, certainty_labels) in tqdm(enumerate(train_dataloader), total=len(train_dataloader)):\n",
    "          optimizer.zero_grad()\n",
    "          token_ids = token_ids.long().to(device)\n",
    "          segment_ids = segment_ids.long().to(device)\n",
    "          valid_length = valid_length\n",
    "          type_labels = type_labels.long().to(device)\n",
    "          polarity_labels = polarity_labels.long().to(device)\n",
    "          tense_labels = tense_labels.long().to(device)\n",
    "          certainty_labels = certainty_labels.long().to(device)\n",
    "          out = model(token_ids, valid_length, segment_ids)\n",
    "\n",
    "          loss = 0.25 * criterion['type'](out[0], type_labels) + \\\n",
    "                      0.25 * criterion['polarity'](out[1], polarity_labels) + \\\n",
    "                      0.25 * criterion['tense'](out[2], tense_labels) + \\\n",
    "                      0.25 * criterion['certainty'](out[3], certainty_labels)\n",
    "          loss.backward()\n",
    "          torch.nn.utils.clip_grad_norm_(model.parameters(), max_grad_norm)\n",
    "          optimizer.step()\n",
    "          scheduler.step()  # Update learning rate schedule\n",
    "          train_loss.append(loss.item())\n",
    "\n",
    "      model.eval()\n",
    "      val_loss, type_f1, polarity_f1, tense_f1, certainty_f1 = validation(model, val_loader, criterion, device)\n",
    "      print(f'Epoch : [{e}] Train Loss : [{np.mean(train_loss):.5f}] Val Loss : [{val_loss:.5f}] 유형 F1 : [{type_f1:.5f}] 극성 F1 : [{polarity_f1:.5f}] 시제 F1 : [{tense_f1:.5f}] 확실성 F1 : [{certainty_f1:.5f}]')\n",
    "      \n",
    "      log_df[\"val_losses\"].append(val_loss)\n",
    "      log_df[\"train_losses\"].append(np.mean(train_loss))\n",
    "      log_df[\"type_f1s\"].append(type_f1)\n",
    "      log_df[\"polarity_f1s\"].append(polarity_f1)\n",
    "      log_df[\"tense_f1s\"].append(tense_f1)\n",
    "      log_df[\"certainty_f1s\"].append(certainty_f1)\n",
    "\n",
    "      pd.DataFrame(log_df).to_csv('log/log.csv')\n",
    "      torch.save(model.state_dict(), f\"saved_models/model_state_dict{str(e+1).zfill(4)}.pth\")\n",
    "\n",
    "  return model"
   ]
  },
  {
   "cell_type": "code",
   "execution_count": 33,
   "metadata": {},
   "outputs": [
    {
     "data": {
      "application/vnd.jupyter.widget-view+json": {
       "model_id": "c3f09c76a07e42e2b4bb7a15beeb12c7",
       "version_major": 2,
       "version_minor": 0
      },
      "text/plain": [
       "  0%|          | 0/2427 [00:00<?, ?it/s]"
      ]
     },
     "metadata": {},
     "output_type": "display_data"
    },
    {
     "data": {
      "application/vnd.jupyter.widget-view+json": {
       "model_id": "0649f87119be4c5aab948bee6a9c127a",
       "version_major": 2,
       "version_minor": 0
      },
      "text/plain": [
       "  0%|          | 0/607 [00:00<?, ?it/s]"
      ]
     },
     "metadata": {},
     "output_type": "display_data"
    },
    {
     "name": "stdout",
     "output_type": "stream",
     "text": [
      "Epoch : [0] Train Loss : [1.02965] Val Loss : [0.86332] 유형 F1 : [0.69634] 극성 F1 : [0.69434] 시제 F1 : [0.68253] 확실성 F1 : [0.66003]\n"
     ]
    },
    {
     "data": {
      "application/vnd.jupyter.widget-view+json": {
       "model_id": "3d93e6dfb8e84a2fb68793d5d6ecd9f7",
       "version_major": 2,
       "version_minor": 0
      },
      "text/plain": [
       "  0%|          | 0/2427 [00:00<?, ?it/s]"
      ]
     },
     "metadata": {},
     "output_type": "display_data"
    },
    {
     "data": {
      "application/vnd.jupyter.widget-view+json": {
       "model_id": "012b8f6f77b94ef4b6c823f2a7f27a6f",
       "version_major": 2,
       "version_minor": 0
      },
      "text/plain": [
       "  0%|          | 0/607 [00:00<?, ?it/s]"
      ]
     },
     "metadata": {},
     "output_type": "display_data"
    },
    {
     "name": "stdout",
     "output_type": "stream",
     "text": [
      "Epoch : [1] Train Loss : [0.64237] Val Loss : [0.36651] 유형 F1 : [0.91526] 극성 F1 : [0.96480] 시제 F1 : [0.93371] 확실성 F1 : [0.90747]\n"
     ]
    },
    {
     "data": {
      "application/vnd.jupyter.widget-view+json": {
       "model_id": "292a1cd794364afeb2ab38e785ae2e65",
       "version_major": 2,
       "version_minor": 0
      },
      "text/plain": [
       "  0%|          | 0/2427 [00:00<?, ?it/s]"
      ]
     },
     "metadata": {},
     "output_type": "display_data"
    },
    {
     "data": {
      "application/vnd.jupyter.widget-view+json": {
       "model_id": "a60cda018bd44bc5959c8d3a22b7d192",
       "version_major": 2,
       "version_minor": 0
      },
      "text/plain": [
       "  0%|          | 0/607 [00:00<?, ?it/s]"
      ]
     },
     "metadata": {},
     "output_type": "display_data"
    },
    {
     "name": "stdout",
     "output_type": "stream",
     "text": [
      "Epoch : [2] Train Loss : [0.25223] Val Loss : [0.12487] 유형 F1 : [0.96756] 극성 F1 : [0.99410] 시제 F1 : [0.97759] 확실성 F1 : [0.97129]\n"
     ]
    },
    {
     "data": {
      "application/vnd.jupyter.widget-view+json": {
       "model_id": "1bc9c15e0a814d9bb4c24b43861ba8e2",
       "version_major": 2,
       "version_minor": 0
      },
      "text/plain": [
       "  0%|          | 0/2427 [00:00<?, ?it/s]"
      ]
     },
     "metadata": {},
     "output_type": "display_data"
    },
    {
     "data": {
      "application/vnd.jupyter.widget-view+json": {
       "model_id": "e455776ee6304236b53a7bc0c3a84414",
       "version_major": 2,
       "version_minor": 0
      },
      "text/plain": [
       "  0%|          | 0/607 [00:00<?, ?it/s]"
      ]
     },
     "metadata": {},
     "output_type": "display_data"
    },
    {
     "name": "stdout",
     "output_type": "stream",
     "text": [
      "Epoch : [3] Train Loss : [0.09387] Val Loss : [0.04464] 유형 F1 : [0.98862] 극성 F1 : [0.99781] 시제 F1 : [0.99070] 확실성 F1 : [0.99108]\n"
     ]
    },
    {
     "data": {
      "application/vnd.jupyter.widget-view+json": {
       "model_id": "ac20572a1d714c268d86b003e65ee412",
       "version_major": 2,
       "version_minor": 0
      },
      "text/plain": [
       "  0%|          | 0/2427 [00:00<?, ?it/s]"
      ]
     },
     "metadata": {},
     "output_type": "display_data"
    },
    {
     "data": {
      "application/vnd.jupyter.widget-view+json": {
       "model_id": "114adf5aac154725af3f47f100c17152",
       "version_major": 2,
       "version_minor": 0
      },
      "text/plain": [
       "  0%|          | 0/607 [00:00<?, ?it/s]"
      ]
     },
     "metadata": {},
     "output_type": "display_data"
    },
    {
     "name": "stdout",
     "output_type": "stream",
     "text": [
      "Epoch : [4] Train Loss : [0.03834] Val Loss : [0.01824] 유형 F1 : [0.99431] 극성 F1 : [0.99907] 시제 F1 : [0.99433] 확실성 F1 : [0.99752]\n"
     ]
    },
    {
     "data": {
      "application/vnd.jupyter.widget-view+json": {
       "model_id": "61bf66aff8d34930875273d013f16fca",
       "version_major": 2,
       "version_minor": 0
      },
      "text/plain": [
       "  0%|          | 0/2427 [00:00<?, ?it/s]"
      ]
     },
     "metadata": {},
     "output_type": "display_data"
    },
    {
     "data": {
      "application/vnd.jupyter.widget-view+json": {
       "model_id": "7fc0104d63454c53bffedd209715db5a",
       "version_major": 2,
       "version_minor": 0
      },
      "text/plain": [
       "  0%|          | 0/607 [00:00<?, ?it/s]"
      ]
     },
     "metadata": {},
     "output_type": "display_data"
    },
    {
     "name": "stdout",
     "output_type": "stream",
     "text": [
      "Epoch : [5] Train Loss : [0.01856] Val Loss : [0.01473] 유형 F1 : [0.99570] 극성 F1 : [0.99951] 시제 F1 : [0.99605] 확실성 F1 : [0.99478]\n"
     ]
    },
    {
     "data": {
      "application/vnd.jupyter.widget-view+json": {
       "model_id": "7e2870d6f0dc4b0c8dac92842968d5ab",
       "version_major": 2,
       "version_minor": 0
      },
      "text/plain": [
       "  0%|          | 0/2427 [00:00<?, ?it/s]"
      ]
     },
     "metadata": {},
     "output_type": "display_data"
    },
    {
     "data": {
      "application/vnd.jupyter.widget-view+json": {
       "model_id": "b2d960f415474877a156591df077f5cd",
       "version_major": 2,
       "version_minor": 0
      },
      "text/plain": [
       "  0%|          | 0/607 [00:00<?, ?it/s]"
      ]
     },
     "metadata": {},
     "output_type": "display_data"
    },
    {
     "name": "stdout",
     "output_type": "stream",
     "text": [
      "Epoch : [6] Train Loss : [0.01046] Val Loss : [0.00737] 유형 F1 : [0.99796] 극성 F1 : [0.99965] 시제 F1 : [0.99656] 확실성 F1 : [0.99898]\n"
     ]
    },
    {
     "data": {
      "application/vnd.jupyter.widget-view+json": {
       "model_id": "fe62c768ebd64ce3be610da921b76402",
       "version_major": 2,
       "version_minor": 0
      },
      "text/plain": [
       "  0%|          | 0/2427 [00:00<?, ?it/s]"
      ]
     },
     "metadata": {},
     "output_type": "display_data"
    },
    {
     "data": {
      "application/vnd.jupyter.widget-view+json": {
       "model_id": "9c4cd03b86f14ed7830d90663fff5231",
       "version_major": 2,
       "version_minor": 0
      },
      "text/plain": [
       "  0%|          | 0/607 [00:00<?, ?it/s]"
      ]
     },
     "metadata": {},
     "output_type": "display_data"
    },
    {
     "name": "stdout",
     "output_type": "stream",
     "text": [
      "Epoch : [7] Train Loss : [0.00674] Val Loss : [0.00691] 유형 F1 : [0.99817] 극성 F1 : [0.99963] 시제 F1 : [0.99696] 확실성 F1 : [0.99878]\n"
     ]
    },
    {
     "data": {
      "application/vnd.jupyter.widget-view+json": {
       "model_id": "1a0c2fdba1ab4aca92f6ec7b627e2f2a",
       "version_major": 2,
       "version_minor": 0
      },
      "text/plain": [
       "  0%|          | 0/2427 [00:00<?, ?it/s]"
      ]
     },
     "metadata": {},
     "output_type": "display_data"
    },
    {
     "data": {
      "application/vnd.jupyter.widget-view+json": {
       "model_id": "0489311a839348e48049b2986f9f7dbd",
       "version_major": 2,
       "version_minor": 0
      },
      "text/plain": [
       "  0%|          | 0/607 [00:00<?, ?it/s]"
      ]
     },
     "metadata": {},
     "output_type": "display_data"
    },
    {
     "name": "stdout",
     "output_type": "stream",
     "text": [
      "Epoch : [8] Train Loss : [0.00465] Val Loss : [0.00562] 유형 F1 : [0.99859] 극성 F1 : [0.99973] 시제 F1 : [0.99740] 확실성 F1 : [0.99902]\n"
     ]
    },
    {
     "data": {
      "application/vnd.jupyter.widget-view+json": {
       "model_id": "da921f255c8a4b4eaf42650e6b71e708",
       "version_major": 2,
       "version_minor": 0
      },
      "text/plain": [
       "  0%|          | 0/2427 [00:00<?, ?it/s]"
      ]
     },
     "metadata": {},
     "output_type": "display_data"
    },
    {
     "data": {
      "application/vnd.jupyter.widget-view+json": {
       "model_id": "0bab54ddc9d348468c5c8e975f0dc137",
       "version_major": 2,
       "version_minor": 0
      },
      "text/plain": [
       "  0%|          | 0/607 [00:00<?, ?it/s]"
      ]
     },
     "metadata": {},
     "output_type": "display_data"
    },
    {
     "name": "stdout",
     "output_type": "stream",
     "text": [
      "Epoch : [9] Train Loss : [0.00358] Val Loss : [0.00590] 유형 F1 : [0.99801] 극성 F1 : [0.99978] 시제 F1 : [0.99740] 확실성 F1 : [0.99941]\n"
     ]
    },
    {
     "data": {
      "application/vnd.jupyter.widget-view+json": {
       "model_id": "018e4510fdde4dfb95341b387ff49fad",
       "version_major": 2,
       "version_minor": 0
      },
      "text/plain": [
       "  0%|          | 0/2427 [00:00<?, ?it/s]"
      ]
     },
     "metadata": {},
     "output_type": "display_data"
    },
    {
     "data": {
      "application/vnd.jupyter.widget-view+json": {
       "model_id": "7e499ea977c44ecc848ebcd722ec9a8d",
       "version_major": 2,
       "version_minor": 0
      },
      "text/plain": [
       "  0%|          | 0/607 [00:00<?, ?it/s]"
      ]
     },
     "metadata": {},
     "output_type": "display_data"
    },
    {
     "name": "stdout",
     "output_type": "stream",
     "text": [
      "Epoch : [10] Train Loss : [0.00277] Val Loss : [0.00419] 유형 F1 : [0.99920] 극성 F1 : [0.99977] 시제 F1 : [0.99810] 확실성 F1 : [0.99934]\n"
     ]
    },
    {
     "data": {
      "application/vnd.jupyter.widget-view+json": {
       "model_id": "cb2a4d73a2f54eb2a5bca0dbc862348d",
       "version_major": 2,
       "version_minor": 0
      },
      "text/plain": [
       "  0%|          | 0/2427 [00:00<?, ?it/s]"
      ]
     },
     "metadata": {},
     "output_type": "display_data"
    },
    {
     "data": {
      "application/vnd.jupyter.widget-view+json": {
       "model_id": "074b873a04e7476b840e7d11af4a20e3",
       "version_major": 2,
       "version_minor": 0
      },
      "text/plain": [
       "  0%|          | 0/607 [00:00<?, ?it/s]"
      ]
     },
     "metadata": {},
     "output_type": "display_data"
    },
    {
     "name": "stdout",
     "output_type": "stream",
     "text": [
      "Epoch : [11] Train Loss : [0.00239] Val Loss : [0.00634] 유형 F1 : [0.99825] 극성 F1 : [0.99975] 시제 F1 : [0.99812] 확실성 F1 : [0.99881]\n"
     ]
    },
    {
     "data": {
      "application/vnd.jupyter.widget-view+json": {
       "model_id": "83dea75c159747c3ba1c9625287afa71",
       "version_major": 2,
       "version_minor": 0
      },
      "text/plain": [
       "  0%|          | 0/2427 [00:00<?, ?it/s]"
      ]
     },
     "metadata": {},
     "output_type": "display_data"
    },
    {
     "data": {
      "application/vnd.jupyter.widget-view+json": {
       "model_id": "b2b694e6b5fc47768e8f29c993a83860",
       "version_major": 2,
       "version_minor": 0
      },
      "text/plain": [
       "  0%|          | 0/607 [00:00<?, ?it/s]"
      ]
     },
     "metadata": {},
     "output_type": "display_data"
    },
    {
     "name": "stdout",
     "output_type": "stream",
     "text": [
      "Epoch : [12] Train Loss : [0.00211] Val Loss : [0.00609] 유형 F1 : [0.99880] 극성 F1 : [0.99976] 시제 F1 : [0.99778] 확실성 F1 : [0.99901]\n"
     ]
    },
    {
     "data": {
      "application/vnd.jupyter.widget-view+json": {
       "model_id": "584d7cc3e32d4b50858b66e144a51282",
       "version_major": 2,
       "version_minor": 0
      },
      "text/plain": [
       "  0%|          | 0/2427 [00:00<?, ?it/s]"
      ]
     },
     "metadata": {},
     "output_type": "display_data"
    },
    {
     "data": {
      "application/vnd.jupyter.widget-view+json": {
       "model_id": "7627dd743869465495a953f9c702d480",
       "version_major": 2,
       "version_minor": 0
      },
      "text/plain": [
       "  0%|          | 0/607 [00:00<?, ?it/s]"
      ]
     },
     "metadata": {},
     "output_type": "display_data"
    },
    {
     "name": "stdout",
     "output_type": "stream",
     "text": [
      "Epoch : [13] Train Loss : [0.00182] Val Loss : [0.00589] 유형 F1 : [0.99881] 극성 F1 : [0.99987] 시제 F1 : [0.99729] 확실성 F1 : [0.99932]\n"
     ]
    },
    {
     "data": {
      "application/vnd.jupyter.widget-view+json": {
       "model_id": "c35c36540879456d841c43334941f87d",
       "version_major": 2,
       "version_minor": 0
      },
      "text/plain": [
       "  0%|          | 0/2427 [00:00<?, ?it/s]"
      ]
     },
     "metadata": {},
     "output_type": "display_data"
    },
    {
     "ename": "KeyboardInterrupt",
     "evalue": "",
     "output_type": "error",
     "traceback": [
      "\u001b[0;31m---------------------------------------------------------------------------\u001b[0m",
      "\u001b[0;31mKeyboardInterrupt\u001b[0m                         Traceback (most recent call last)",
      "\u001b[0;32m/tmp/ipykernel_393/3662725346.py\u001b[0m in \u001b[0;36m<module>\u001b[0;34m\u001b[0m\n\u001b[0;32m----> 1\u001b[0;31m \u001b[0minfer_model\u001b[0m \u001b[0;34m=\u001b[0m \u001b[0mtrain\u001b[0m\u001b[0;34m(\u001b[0m\u001b[0mmodel\u001b[0m\u001b[0;34m,\u001b[0m \u001b[0moptimizer\u001b[0m\u001b[0;34m,\u001b[0m \u001b[0mtrain_dataloader\u001b[0m\u001b[0;34m,\u001b[0m \u001b[0mval_dataloader\u001b[0m\u001b[0;34m,\u001b[0m \u001b[0mscheduler\u001b[0m\u001b[0;34m,\u001b[0m \u001b[0mdevice\u001b[0m\u001b[0;34m)\u001b[0m\u001b[0;34m\u001b[0m\u001b[0;34m\u001b[0m\u001b[0m\n\u001b[0m",
      "\u001b[0;32m/tmp/ipykernel_393/3198581674.py\u001b[0m in \u001b[0;36mtrain\u001b[0;34m(model, optimizer, train_loader, val_loader, scheduler, device)\u001b[0m\n\u001b[1;32m     29\u001b[0m                       \u001b[0;36m0.25\u001b[0m \u001b[0;34m*\u001b[0m \u001b[0mcriterion\u001b[0m\u001b[0;34m[\u001b[0m\u001b[0;34m'tense'\u001b[0m\u001b[0;34m]\u001b[0m\u001b[0;34m(\u001b[0m\u001b[0mout\u001b[0m\u001b[0;34m[\u001b[0m\u001b[0;36m2\u001b[0m\u001b[0;34m]\u001b[0m\u001b[0;34m,\u001b[0m \u001b[0mtense_labels\u001b[0m\u001b[0;34m)\u001b[0m \u001b[0;34m+\u001b[0m\u001b[0;31m \u001b[0m\u001b[0;31m\\\u001b[0m\u001b[0;34m\u001b[0m\u001b[0;34m\u001b[0m\u001b[0m\n\u001b[1;32m     30\u001b[0m                       \u001b[0;36m0.25\u001b[0m \u001b[0;34m*\u001b[0m \u001b[0mcriterion\u001b[0m\u001b[0;34m[\u001b[0m\u001b[0;34m'certainty'\u001b[0m\u001b[0;34m]\u001b[0m\u001b[0;34m(\u001b[0m\u001b[0mout\u001b[0m\u001b[0;34m[\u001b[0m\u001b[0;36m3\u001b[0m\u001b[0;34m]\u001b[0m\u001b[0;34m,\u001b[0m \u001b[0mcertainty_labels\u001b[0m\u001b[0;34m)\u001b[0m\u001b[0;34m\u001b[0m\u001b[0;34m\u001b[0m\u001b[0m\n\u001b[0;32m---> 31\u001b[0;31m           \u001b[0mloss\u001b[0m\u001b[0;34m.\u001b[0m\u001b[0mbackward\u001b[0m\u001b[0;34m(\u001b[0m\u001b[0;34m)\u001b[0m\u001b[0;34m\u001b[0m\u001b[0;34m\u001b[0m\u001b[0m\n\u001b[0m\u001b[1;32m     32\u001b[0m           \u001b[0mtorch\u001b[0m\u001b[0;34m.\u001b[0m\u001b[0mnn\u001b[0m\u001b[0;34m.\u001b[0m\u001b[0mutils\u001b[0m\u001b[0;34m.\u001b[0m\u001b[0mclip_grad_norm_\u001b[0m\u001b[0;34m(\u001b[0m\u001b[0mmodel\u001b[0m\u001b[0;34m.\u001b[0m\u001b[0mparameters\u001b[0m\u001b[0;34m(\u001b[0m\u001b[0;34m)\u001b[0m\u001b[0;34m,\u001b[0m \u001b[0mmax_grad_norm\u001b[0m\u001b[0;34m)\u001b[0m\u001b[0;34m\u001b[0m\u001b[0;34m\u001b[0m\u001b[0m\n\u001b[1;32m     33\u001b[0m           \u001b[0moptimizer\u001b[0m\u001b[0;34m.\u001b[0m\u001b[0mstep\u001b[0m\u001b[0;34m(\u001b[0m\u001b[0;34m)\u001b[0m\u001b[0;34m\u001b[0m\u001b[0;34m\u001b[0m\u001b[0m\n",
      "\u001b[0;32m~/anaconda3/envs/dacon/lib/python3.7/site-packages/torch/_tensor.py\u001b[0m in \u001b[0;36mbackward\u001b[0;34m(self, gradient, retain_graph, create_graph, inputs)\u001b[0m\n\u001b[1;32m    305\u001b[0m                 \u001b[0mcreate_graph\u001b[0m\u001b[0;34m=\u001b[0m\u001b[0mcreate_graph\u001b[0m\u001b[0;34m,\u001b[0m\u001b[0;34m\u001b[0m\u001b[0;34m\u001b[0m\u001b[0m\n\u001b[1;32m    306\u001b[0m                 inputs=inputs)\n\u001b[0;32m--> 307\u001b[0;31m         \u001b[0mtorch\u001b[0m\u001b[0;34m.\u001b[0m\u001b[0mautograd\u001b[0m\u001b[0;34m.\u001b[0m\u001b[0mbackward\u001b[0m\u001b[0;34m(\u001b[0m\u001b[0mself\u001b[0m\u001b[0;34m,\u001b[0m \u001b[0mgradient\u001b[0m\u001b[0;34m,\u001b[0m \u001b[0mretain_graph\u001b[0m\u001b[0;34m,\u001b[0m \u001b[0mcreate_graph\u001b[0m\u001b[0;34m,\u001b[0m \u001b[0minputs\u001b[0m\u001b[0;34m=\u001b[0m\u001b[0minputs\u001b[0m\u001b[0;34m)\u001b[0m\u001b[0;34m\u001b[0m\u001b[0;34m\u001b[0m\u001b[0m\n\u001b[0m\u001b[1;32m    308\u001b[0m \u001b[0;34m\u001b[0m\u001b[0m\n\u001b[1;32m    309\u001b[0m     \u001b[0;32mdef\u001b[0m \u001b[0mregister_hook\u001b[0m\u001b[0;34m(\u001b[0m\u001b[0mself\u001b[0m\u001b[0;34m,\u001b[0m \u001b[0mhook\u001b[0m\u001b[0;34m)\u001b[0m\u001b[0;34m:\u001b[0m\u001b[0;34m\u001b[0m\u001b[0;34m\u001b[0m\u001b[0m\n",
      "\u001b[0;32m~/anaconda3/envs/dacon/lib/python3.7/site-packages/torch/autograd/__init__.py\u001b[0m in \u001b[0;36mbackward\u001b[0;34m(tensors, grad_tensors, retain_graph, create_graph, grad_variables, inputs)\u001b[0m\n\u001b[1;32m    154\u001b[0m     Variable._execution_engine.run_backward(\n\u001b[1;32m    155\u001b[0m         \u001b[0mtensors\u001b[0m\u001b[0;34m,\u001b[0m \u001b[0mgrad_tensors_\u001b[0m\u001b[0;34m,\u001b[0m \u001b[0mretain_graph\u001b[0m\u001b[0;34m,\u001b[0m \u001b[0mcreate_graph\u001b[0m\u001b[0;34m,\u001b[0m \u001b[0minputs\u001b[0m\u001b[0;34m,\u001b[0m\u001b[0;34m\u001b[0m\u001b[0;34m\u001b[0m\u001b[0m\n\u001b[0;32m--> 156\u001b[0;31m         allow_unreachable=True, accumulate_grad=True)  # allow_unreachable flag\n\u001b[0m\u001b[1;32m    157\u001b[0m \u001b[0;34m\u001b[0m\u001b[0m\n\u001b[1;32m    158\u001b[0m \u001b[0;34m\u001b[0m\u001b[0m\n",
      "\u001b[0;31mKeyboardInterrupt\u001b[0m: "
     ]
    }
   ],
   "source": [
    "infer_model = train(model, optimizer, train_dataloader, val_dataloader, scheduler, device)"
   ]
  },
  {
   "attachments": {},
   "cell_type": "markdown",
   "metadata": {},
   "source": [
    "# TEST"
   ]
  },
  {
   "cell_type": "code",
   "execution_count": 38,
   "metadata": {},
   "outputs": [],
   "source": [
    "pretrained_dict = torch.load(r'saved_models/model_state_dict0010.pth')\n",
    "model.load_state_dict(pretrained_dict)\n",
    "infer_model = model"
   ]
  },
  {
   "cell_type": "code",
   "execution_count": 48,
   "metadata": {},
   "outputs": [],
   "source": [
    "data_test = BERTDataset(val, tok, max_len, True, False, train=False)\n",
    "test_dataloader = torch.utils.data.DataLoader(data_test, batch_size=batch_size, shuffle=False, num_workers=0)\n",
    "\n",
    "# test = pd.read_csv('dataset/test.csv')\n",
    "\n",
    "# data_test = BERTDataset(test, tok, max_len, True, False, train=False)\n",
    "# test_dataloader = torch.utils.data.DataLoader(data_test, batch_size=batch_size, shuffle=False, num_workers=0)"
   ]
  },
  {
   "cell_type": "code",
   "execution_count": 49,
   "metadata": {},
   "outputs": [],
   "source": [
    "def inference(infer_model, test_dataloader, device):\n",
    "    infer_model.to(device)\n",
    "    infer_model.eval()\n",
    "    \n",
    "    type_preds, polarity_preds, tense_preds, certainty_preds = [], [], [], []\n",
    "    \n",
    "    with torch.no_grad():\n",
    "      for batch_id, i in tqdm(enumerate(test_dataloader), total=len(test_dataloader)):\n",
    "        token_ids, valid_length, segment_ids = i[0][0], i[0][1], i[0][2]\n",
    "        token_ids = token_ids.long().to(device)\n",
    "        segment_ids = segment_ids.long().to(device)\n",
    "        type_logit, polarity_logit, tense_logit, certainty_logit = model(token_ids, valid_length, segment_ids)\n",
    "        \n",
    "        type_preds += type_logit.argmax(1).detach().cpu().numpy().tolist()\n",
    "        polarity_preds += polarity_logit.argmax(1).detach().cpu().numpy().tolist()\n",
    "        tense_preds += tense_logit.argmax(1).detach().cpu().numpy().tolist()\n",
    "        certainty_preds += certainty_logit.argmax(1).detach().cpu().numpy().tolist()\n",
    "        \n",
    "    return type_preds, polarity_preds, tense_preds, certainty_preds"
   ]
  },
  {
   "cell_type": "code",
   "execution_count": 77,
   "metadata": {},
   "outputs": [
    {
     "data": {
      "application/vnd.jupyter.widget-view+json": {
       "model_id": "db1cd873d8b8413faf8dbc3d3816e652",
       "version_major": 2,
       "version_minor": 0
      },
      "text/plain": [
       "  0%|          | 0/607 [00:00<?, ?it/s]"
      ]
     },
     "metadata": {},
     "output_type": "display_data"
    }
   ],
   "source": [
    "type_preds, polarity_preds, tense_preds, certainty_preds = inference(infer_model, test_dataloader, device)"
   ]
  },
  {
   "cell_type": "code",
   "execution_count": 51,
   "metadata": {},
   "outputs": [],
   "source": [
    "label_dict = {\"유형\":[\"사실형\", \"추론형\", \"대화형\", \"예측형\"], \"극성\":[\"긍정\", \"부정\", \"미정\"], \"시제\":[\"과거\", \"현재\", \"미래\"], \"확실성\":[\"확실\", \"불확실\"]}"
   ]
  },
  {
   "cell_type": "code",
   "execution_count": 52,
   "metadata": {},
   "outputs": [],
   "source": [
    "type_preds = [label_dict[\"유형\"][x] for x in type_preds]\n",
    "polarity_preds = [label_dict[\"극성\"][x] for x in polarity_preds]\n",
    "tense_preds = [label_dict[\"시제\"][x] for x in tense_preds]\n",
    "certainty_preds = [label_dict[\"확실성\"][x] for x in certainty_preds]"
   ]
  },
  {
   "cell_type": "code",
   "execution_count": 53,
   "metadata": {},
   "outputs": [],
   "source": [
    "predictions = []\n",
    "for type_pred, polarity_pred, tense_pred, certainty_pred in zip(type_preds, polarity_preds, tense_preds, certainty_preds):\n",
    "    predictions.append(type_pred+'-'+polarity_pred+'-'+tense_pred+'-'+certainty_pred)"
   ]
  },
  {
   "cell_type": "code",
   "execution_count": 65,
   "metadata": {},
   "outputs": [],
   "source": [
    "val.to_csv('dataset/res.csv', compression=None)"
   ]
  },
  {
   "cell_type": "code",
   "execution_count": 78,
   "metadata": {},
   "outputs": [],
   "source": [
    "submit = pd.read_csv('dataset/res.csv')\n",
    "# submit['test'] = predictions\n",
    "submit['t유형'] = type_preds\n",
    "submit['t극성'] = polarity_preds\n",
    "submit['t시제'] = tense_preds\n",
    "submit['t확실성'] = certainty_preds\n",
    "# submit = pd.read_csv('dataset/sample_submission.csv')\n",
    "# submit['label'] = predictions"
   ]
  },
  {
   "cell_type": "code",
   "execution_count": 80,
   "metadata": {},
   "outputs": [],
   "source": [
    "submit.to_csv('dataset/res.csv', index=False, compression=None)"
   ]
  },
  {
   "cell_type": "code",
   "execution_count": 79,
   "metadata": {},
   "outputs": [
    {
     "data": {
      "text/html": [
       "<div>\n",
       "<style scoped>\n",
       "    .dataframe tbody tr th:only-of-type {\n",
       "        vertical-align: middle;\n",
       "    }\n",
       "\n",
       "    .dataframe tbody tr th {\n",
       "        vertical-align: top;\n",
       "    }\n",
       "\n",
       "    .dataframe thead th {\n",
       "        text-align: right;\n",
       "    }\n",
       "</style>\n",
       "<table border=\"1\" class=\"dataframe\">\n",
       "  <thead>\n",
       "    <tr style=\"text-align: right;\">\n",
       "      <th></th>\n",
       "      <th>Column1</th>\n",
       "      <th>ID</th>\n",
       "      <th>문장</th>\n",
       "      <th>유형</th>\n",
       "      <th>극성</th>\n",
       "      <th>시제</th>\n",
       "      <th>확실성</th>\n",
       "      <th>label</th>\n",
       "      <th>test</th>\n",
       "      <th>t유형</th>\n",
       "      <th>t극성</th>\n",
       "      <th>t시제</th>\n",
       "      <th>t확실성</th>\n",
       "      <th>결과-label</th>\n",
       "      <th>결과-유형</th>\n",
       "      <th>결과-극성</th>\n",
       "      <th>결과-시제</th>\n",
       "      <th>결과-확실성</th>\n",
       "    </tr>\n",
       "  </thead>\n",
       "  <tbody>\n",
       "    <tr>\n",
       "      <th>0</th>\n",
       "      <td>451831</td>\n",
       "      <td>TRAIN_00627</td>\n",
       "      <td>한다 빅오픈에서 우승하지는 못했지만 준우승을 차지하며 샷 감각을 끌어올린 터라 갑자...</td>\n",
       "      <td>1</td>\n",
       "      <td>1</td>\n",
       "      <td>1</td>\n",
       "      <td>0</td>\n",
       "      <td>추론형-부정-현재-확실</td>\n",
       "      <td>추론형-부정-현재-확실</td>\n",
       "      <td>1</td>\n",
       "      <td>1</td>\n",
       "      <td>1</td>\n",
       "      <td>0</td>\n",
       "      <td>NaN</td>\n",
       "      <td>NaN</td>\n",
       "      <td>NaN</td>\n",
       "      <td>NaN</td>\n",
       "      <td>NaN</td>\n",
       "    </tr>\n",
       "    <tr>\n",
       "      <th>1</th>\n",
       "      <td>335213</td>\n",
       "      <td>TRAIN_02439</td>\n",
       "      <td>이달 24~27일(현지시간) 스페인 바르셀로나에서 열리는 세계최대 모바일 전시회 모...</td>\n",
       "      <td>3</td>\n",
       "      <td>1</td>\n",
       "      <td>1</td>\n",
       "      <td>1</td>\n",
       "      <td>예측형-부정-현재-불확실</td>\n",
       "      <td>예측형-부정-현재-불확실</td>\n",
       "      <td>3</td>\n",
       "      <td>1</td>\n",
       "      <td>1</td>\n",
       "      <td>1</td>\n",
       "      <td>NaN</td>\n",
       "      <td>NaN</td>\n",
       "      <td>NaN</td>\n",
       "      <td>NaN</td>\n",
       "      <td>NaN</td>\n",
       "    </tr>\n",
       "    <tr>\n",
       "      <th>2</th>\n",
       "      <td>367278</td>\n",
       "      <td>TRAIN_15326</td>\n",
       "      <td>하지만 이를 완전한 골프 시뮬레이터라고 말하기에는 조금 부족하다.</td>\n",
       "      <td>1</td>\n",
       "      <td>0</td>\n",
       "      <td>1</td>\n",
       "      <td>1</td>\n",
       "      <td>추론형-긍정-현재-불확실</td>\n",
       "      <td>추론형-긍정-현재-불확실</td>\n",
       "      <td>1</td>\n",
       "      <td>0</td>\n",
       "      <td>1</td>\n",
       "      <td>1</td>\n",
       "      <td>NaN</td>\n",
       "      <td>NaN</td>\n",
       "      <td>NaN</td>\n",
       "      <td>NaN</td>\n",
       "      <td>NaN</td>\n",
       "    </tr>\n",
       "    <tr>\n",
       "      <th>3</th>\n",
       "      <td>30721</td>\n",
       "      <td>TRAIN_08693</td>\n",
       "      <td>코로나19 등으로 인해 미국 경제가 나빠지면 연준이 금리를 내릴 거라는 예상입니다.</td>\n",
       "      <td>2</td>\n",
       "      <td>0</td>\n",
       "      <td>2</td>\n",
       "      <td>1</td>\n",
       "      <td>대화형-긍정-미래-불확실</td>\n",
       "      <td>대화형-긍정-미래-불확실</td>\n",
       "      <td>2</td>\n",
       "      <td>0</td>\n",
       "      <td>2</td>\n",
       "      <td>1</td>\n",
       "      <td>NaN</td>\n",
       "      <td>NaN</td>\n",
       "      <td>NaN</td>\n",
       "      <td>NaN</td>\n",
       "      <td>NaN</td>\n",
       "    </tr>\n",
       "    <tr>\n",
       "      <th>4</th>\n",
       "      <td>43987</td>\n",
       "      <td>TRAIN_13132</td>\n",
       "      <td>＂부당한 지시라고 생각되더라도 저항이라는 걸 해보세요.＂</td>\n",
       "      <td>2</td>\n",
       "      <td>0</td>\n",
       "      <td>2</td>\n",
       "      <td>0</td>\n",
       "      <td>대화형-긍정-미래-확실</td>\n",
       "      <td>대화형-긍정-미래-확실</td>\n",
       "      <td>2</td>\n",
       "      <td>0</td>\n",
       "      <td>2</td>\n",
       "      <td>0</td>\n",
       "      <td>NaN</td>\n",
       "      <td>NaN</td>\n",
       "      <td>NaN</td>\n",
       "      <td>NaN</td>\n",
       "      <td>NaN</td>\n",
       "    </tr>\n",
       "    <tr>\n",
       "      <th>...</th>\n",
       "      <td>...</td>\n",
       "      <td>...</td>\n",
       "      <td>...</td>\n",
       "      <td>...</td>\n",
       "      <td>...</td>\n",
       "      <td>...</td>\n",
       "      <td>...</td>\n",
       "      <td>...</td>\n",
       "      <td>...</td>\n",
       "      <td>...</td>\n",
       "      <td>...</td>\n",
       "      <td>...</td>\n",
       "      <td>...</td>\n",
       "      <td>...</td>\n",
       "      <td>...</td>\n",
       "      <td>...</td>\n",
       "      <td>...</td>\n",
       "      <td>...</td>\n",
       "    </tr>\n",
       "    <tr>\n",
       "      <th>91042</th>\n",
       "      <td>361156</td>\n",
       "      <td>TRAIN_16247</td>\n",
       "      <td>만일 계약이 영문으로 작성된 경우 단순히 번역문에 의존할 것이 아니라 영문 본래의 ...</td>\n",
       "      <td>1</td>\n",
       "      <td>0</td>\n",
       "      <td>2</td>\n",
       "      <td>0</td>\n",
       "      <td>추론형-긍정-미래-확실</td>\n",
       "      <td>추론형-긍정-미래-확실</td>\n",
       "      <td>1</td>\n",
       "      <td>0</td>\n",
       "      <td>2</td>\n",
       "      <td>0</td>\n",
       "      <td>NaN</td>\n",
       "      <td>NaN</td>\n",
       "      <td>NaN</td>\n",
       "      <td>NaN</td>\n",
       "      <td>NaN</td>\n",
       "    </tr>\n",
       "    <tr>\n",
       "      <th>91043</th>\n",
       "      <td>374765</td>\n",
       "      <td>TRAIN_15385</td>\n",
       "      <td>가지면 가질수록 우리는 점점 폐허가 되어간다.</td>\n",
       "      <td>1</td>\n",
       "      <td>0</td>\n",
       "      <td>1</td>\n",
       "      <td>0</td>\n",
       "      <td>추론형-긍정-현재-확실</td>\n",
       "      <td>추론형-긍정-현재-확실</td>\n",
       "      <td>1</td>\n",
       "      <td>0</td>\n",
       "      <td>1</td>\n",
       "      <td>0</td>\n",
       "      <td>NaN</td>\n",
       "      <td>NaN</td>\n",
       "      <td>NaN</td>\n",
       "      <td>NaN</td>\n",
       "      <td>NaN</td>\n",
       "    </tr>\n",
       "    <tr>\n",
       "      <th>91044</th>\n",
       "      <td>13128</td>\n",
       "      <td>TRAIN_13128</td>\n",
       "      <td>정보기술(IT) 수요 둔화가 심화되는 가운데 삼성전자가 52주 신저가를 기록하자 증...</td>\n",
       "      <td>0</td>\n",
       "      <td>0</td>\n",
       "      <td>1</td>\n",
       "      <td>0</td>\n",
       "      <td>사실형-긍정-현재-확실</td>\n",
       "      <td>사실형-긍정-현재-확실</td>\n",
       "      <td>0</td>\n",
       "      <td>0</td>\n",
       "      <td>1</td>\n",
       "      <td>0</td>\n",
       "      <td>NaN</td>\n",
       "      <td>NaN</td>\n",
       "      <td>NaN</td>\n",
       "      <td>NaN</td>\n",
       "      <td>NaN</td>\n",
       "    </tr>\n",
       "    <tr>\n",
       "      <th>91045</th>\n",
       "      <td>176472</td>\n",
       "      <td>TRAIN_15219</td>\n",
       "      <td>제주항공은 지난 5월부터 인천~괌 노선 운항횟수를 주 2회에서 주 4회로 늘렸고, ...</td>\n",
       "      <td>0</td>\n",
       "      <td>2</td>\n",
       "      <td>2</td>\n",
       "      <td>0</td>\n",
       "      <td>사실형-미정-미래-확실</td>\n",
       "      <td>사실형-미정-미래-확실</td>\n",
       "      <td>0</td>\n",
       "      <td>2</td>\n",
       "      <td>2</td>\n",
       "      <td>0</td>\n",
       "      <td>NaN</td>\n",
       "      <td>NaN</td>\n",
       "      <td>NaN</td>\n",
       "      <td>NaN</td>\n",
       "      <td>NaN</td>\n",
       "    </tr>\n",
       "    <tr>\n",
       "      <th>91046</th>\n",
       "      <td>359508</td>\n",
       "      <td>TRAIN_01650</td>\n",
       "      <td>＂책 속의 이미지 가운데 33퍼센트만 찾아낸다면 당신은 강우현을 남이섬에서 밀어낼 ...</td>\n",
       "      <td>1</td>\n",
       "      <td>0</td>\n",
       "      <td>2</td>\n",
       "      <td>0</td>\n",
       "      <td>추론형-긍정-미래-확실</td>\n",
       "      <td>추론형-긍정-미래-확실</td>\n",
       "      <td>1</td>\n",
       "      <td>0</td>\n",
       "      <td>2</td>\n",
       "      <td>0</td>\n",
       "      <td>NaN</td>\n",
       "      <td>NaN</td>\n",
       "      <td>NaN</td>\n",
       "      <td>NaN</td>\n",
       "      <td>NaN</td>\n",
       "    </tr>\n",
       "  </tbody>\n",
       "</table>\n",
       "<p>91047 rows × 18 columns</p>\n",
       "</div>"
      ],
      "text/plain": [
       "       Column1           ID  \\\n",
       "0       451831  TRAIN_00627   \n",
       "1       335213  TRAIN_02439   \n",
       "2       367278  TRAIN_15326   \n",
       "3        30721  TRAIN_08693   \n",
       "4        43987  TRAIN_13132   \n",
       "...        ...          ...   \n",
       "91042   361156  TRAIN_16247   \n",
       "91043   374765  TRAIN_15385   \n",
       "91044    13128  TRAIN_13128   \n",
       "91045   176472  TRAIN_15219   \n",
       "91046   359508  TRAIN_01650   \n",
       "\n",
       "                                                      문장  유형  극성  시제  확실성  \\\n",
       "0      한다 빅오픈에서 우승하지는 못했지만 준우승을 차지하며 샷 감각을 끌어올린 터라 갑자...   1   1   1    0   \n",
       "1      이달 24~27일(현지시간) 스페인 바르셀로나에서 열리는 세계최대 모바일 전시회 모...   3   1   1    1   \n",
       "2                   하지만 이를 완전한 골프 시뮬레이터라고 말하기에는 조금 부족하다.   1   0   1    1   \n",
       "3         코로나19 등으로 인해 미국 경제가 나빠지면 연준이 금리를 내릴 거라는 예상입니다.   2   0   2    1   \n",
       "4                        ＂부당한 지시라고 생각되더라도 저항이라는 걸 해보세요.＂   2   0   2    0   \n",
       "...                                                  ...  ..  ..  ..  ...   \n",
       "91042  만일 계약이 영문으로 작성된 경우 단순히 번역문에 의존할 것이 아니라 영문 본래의 ...   1   0   2    0   \n",
       "91043                          가지면 가질수록 우리는 점점 폐허가 되어간다.   1   0   1    0   \n",
       "91044  정보기술(IT) 수요 둔화가 심화되는 가운데 삼성전자가 52주 신저가를 기록하자 증...   0   0   1    0   \n",
       "91045  제주항공은 지난 5월부터 인천~괌 노선 운항횟수를 주 2회에서 주 4회로 늘렸고, ...   0   2   2    0   \n",
       "91046  ＂책 속의 이미지 가운데 33퍼센트만 찾아낸다면 당신은 강우현을 남이섬에서 밀어낼 ...   1   0   2    0   \n",
       "\n",
       "               label           test  t유형  t극성  t시제  t확실성  결과-label  결과-유형  \\\n",
       "0       추론형-부정-현재-확실   추론형-부정-현재-확실    1    1    1     0       NaN    NaN   \n",
       "1      예측형-부정-현재-불확실  예측형-부정-현재-불확실    3    1    1     1       NaN    NaN   \n",
       "2      추론형-긍정-현재-불확실  추론형-긍정-현재-불확실    1    0    1     1       NaN    NaN   \n",
       "3      대화형-긍정-미래-불확실  대화형-긍정-미래-불확실    2    0    2     1       NaN    NaN   \n",
       "4       대화형-긍정-미래-확실   대화형-긍정-미래-확실    2    0    2     0       NaN    NaN   \n",
       "...              ...            ...  ...  ...  ...   ...       ...    ...   \n",
       "91042   추론형-긍정-미래-확실   추론형-긍정-미래-확실    1    0    2     0       NaN    NaN   \n",
       "91043   추론형-긍정-현재-확실   추론형-긍정-현재-확실    1    0    1     0       NaN    NaN   \n",
       "91044   사실형-긍정-현재-확실   사실형-긍정-현재-확실    0    0    1     0       NaN    NaN   \n",
       "91045   사실형-미정-미래-확실   사실형-미정-미래-확실    0    2    2     0       NaN    NaN   \n",
       "91046   추론형-긍정-미래-확실   추론형-긍정-미래-확실    1    0    2     0       NaN    NaN   \n",
       "\n",
       "       결과-극성  결과-시제  결과-확실성  \n",
       "0        NaN    NaN     NaN  \n",
       "1        NaN    NaN     NaN  \n",
       "2        NaN    NaN     NaN  \n",
       "3        NaN    NaN     NaN  \n",
       "4        NaN    NaN     NaN  \n",
       "...      ...    ...     ...  \n",
       "91042    NaN    NaN     NaN  \n",
       "91043    NaN    NaN     NaN  \n",
       "91044    NaN    NaN     NaN  \n",
       "91045    NaN    NaN     NaN  \n",
       "91046    NaN    NaN     NaN  \n",
       "\n",
       "[91047 rows x 18 columns]"
      ]
     },
     "execution_count": 79,
     "metadata": {},
     "output_type": "execute_result"
    }
   ],
   "source": [
    "submit"
   ]
  }
 ],
 "metadata": {
  "kernelspec": {
   "display_name": "dacon",
   "language": "python",
   "name": "python3"
  },
  "language_info": {
   "codemirror_mode": {
    "name": "ipython",
    "version": 3
   },
   "file_extension": ".py",
   "mimetype": "text/x-python",
   "name": "python",
   "nbconvert_exporter": "python",
   "pygments_lexer": "ipython3",
   "version": "3.7.15"
  },
  "orig_nbformat": 4,
  "vscode": {
   "interpreter": {
    "hash": "fab9c9038c1fda1be47dab1483563526d4f30d60a56208f3537137a34eea8e34"
   }
  }
 },
 "nbformat": 4,
 "nbformat_minor": 2
}
